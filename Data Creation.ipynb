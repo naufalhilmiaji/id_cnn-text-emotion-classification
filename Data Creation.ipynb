{
 "cells": [
  {
   "cell_type": "markdown",
   "metadata": {},
   "source": [
    "# Data Creation"
   ]
  },
  {
   "cell_type": "code",
   "execution_count": 1,
   "metadata": {
    "ExecuteTime": {
     "end_time": "2021-04-17T14:46:01.596467Z",
     "start_time": "2021-04-17T14:46:00.760663Z"
    }
   },
   "outputs": [],
   "source": [
    "# important libraries\n",
    "import pickle\n",
    "import pandas as pd\n",
    "import re\n",
    "from collections import Counter\n",
    "\n",
    "# data preprocessing\n",
    "from nltk.corpus import stopwords\n",
    "from Sastrawi.Stemmer.StemmerFactory import StemmerFactory\n",
    "from sklearn.feature_extraction.text import TfidfVectorizer\n",
    "from sklearn.model_selection import train_test_split\n",
    "from sklearn.feature_selection import chi2\n",
    "import numpy as np\n",
    "\n",
    "# data visualization\n",
    "import matplotlib.pyplot as plt\n",
    "import seaborn as sns\n",
    "sns.set_style(\"whitegrid\")\n",
    "\n",
    "# alt.renderers.enable(\"notebook\")\n",
    "import warnings\n",
    "warnings.filterwarnings(\"ignore\")"
   ]
  },
  {
   "cell_type": "markdown",
   "metadata": {},
   "source": [
    "## Dataset Sources\n",
    "\n",
    "* https://github.com/meisaputri21/Indonesian-Twitter-Emotion-Dataset"
   ]
  },
  {
   "cell_type": "code",
   "execution_count": 2,
   "metadata": {
    "ExecuteTime": {
     "end_time": "2021-04-17T14:46:01.614820Z",
     "start_time": "2021-04-17T14:46:01.597625Z"
    },
    "scrolled": false
   },
   "outputs": [
    {
     "data": {
      "text/html": [
       "<div>\n",
       "<style scoped>\n",
       "    .dataframe tbody tr th:only-of-type {\n",
       "        vertical-align: middle;\n",
       "    }\n",
       "\n",
       "    .dataframe tbody tr th {\n",
       "        vertical-align: top;\n",
       "    }\n",
       "\n",
       "    .dataframe thead th {\n",
       "        text-align: right;\n",
       "    }\n",
       "</style>\n",
       "<table border=\"1\" class=\"dataframe\">\n",
       "  <thead>\n",
       "    <tr style=\"text-align: right;\">\n",
       "      <th></th>\n",
       "      <th>label</th>\n",
       "      <th>tweet</th>\n",
       "    </tr>\n",
       "  </thead>\n",
       "  <tbody>\n",
       "    <tr>\n",
       "      <th>0</th>\n",
       "      <td>anger</td>\n",
       "      <td>Soal jln Jatibaru,polisi tdk bs GERTAK gubernu...</td>\n",
       "    </tr>\n",
       "    <tr>\n",
       "      <th>1</th>\n",
       "      <td>anger</td>\n",
       "      <td>Sesama cewe lho (kayaknya), harusnya bisa lebi...</td>\n",
       "    </tr>\n",
       "    <tr>\n",
       "      <th>2</th>\n",
       "      <td>happy</td>\n",
       "      <td>Kepingin gudeg mbarek Bu hj. Amad Foto dari go...</td>\n",
       "    </tr>\n",
       "    <tr>\n",
       "      <th>3</th>\n",
       "      <td>anger</td>\n",
       "      <td>Jln Jatibaru,bagian dari wilayah Tn Abang.Peng...</td>\n",
       "    </tr>\n",
       "    <tr>\n",
       "      <th>4</th>\n",
       "      <td>happy</td>\n",
       "      <td>Sharing pengalaman aja, kemarin jam 18.00 bata...</td>\n",
       "    </tr>\n",
       "    <tr>\n",
       "      <th>...</th>\n",
       "      <td>...</td>\n",
       "      <td>...</td>\n",
       "    </tr>\n",
       "    <tr>\n",
       "      <th>4396</th>\n",
       "      <td>love</td>\n",
       "      <td>Tahukah kamu, bahwa saat itu papa memejamkan m...</td>\n",
       "    </tr>\n",
       "    <tr>\n",
       "      <th>4397</th>\n",
       "      <td>fear</td>\n",
       "      <td>Sulitnya menetapkan Calon Wapresnya Jokowi di ...</td>\n",
       "    </tr>\n",
       "    <tr>\n",
       "      <th>4398</th>\n",
       "      <td>anger</td>\n",
       "      <td>5. masa depannya nggak jelas. lha iya, gimana ...</td>\n",
       "    </tr>\n",
       "    <tr>\n",
       "      <th>4399</th>\n",
       "      <td>happy</td>\n",
       "      <td>[USERNAME] dulu beneran ada mahasiswa Teknik U...</td>\n",
       "    </tr>\n",
       "    <tr>\n",
       "      <th>4400</th>\n",
       "      <td>sadness</td>\n",
       "      <td>Ya Allah, hanya Engkau yang mengetahui rasa sa...</td>\n",
       "    </tr>\n",
       "  </tbody>\n",
       "</table>\n",
       "<p>4401 rows × 2 columns</p>\n",
       "</div>"
      ],
      "text/plain": [
       "        label                                              tweet\n",
       "0       anger  Soal jln Jatibaru,polisi tdk bs GERTAK gubernu...\n",
       "1       anger  Sesama cewe lho (kayaknya), harusnya bisa lebi...\n",
       "2       happy  Kepingin gudeg mbarek Bu hj. Amad Foto dari go...\n",
       "3       anger  Jln Jatibaru,bagian dari wilayah Tn Abang.Peng...\n",
       "4       happy  Sharing pengalaman aja, kemarin jam 18.00 bata...\n",
       "...       ...                                                ...\n",
       "4396     love  Tahukah kamu, bahwa saat itu papa memejamkan m...\n",
       "4397     fear  Sulitnya menetapkan Calon Wapresnya Jokowi di ...\n",
       "4398    anger  5. masa depannya nggak jelas. lha iya, gimana ...\n",
       "4399    happy  [USERNAME] dulu beneran ada mahasiswa Teknik U...\n",
       "4400  sadness  Ya Allah, hanya Engkau yang mengetahui rasa sa...\n",
       "\n",
       "[4401 rows x 2 columns]"
      ]
     },
     "execution_count": 2,
     "metadata": {},
     "output_type": "execute_result"
    }
   ],
   "source": [
    "df = pd.read_csv('datasets/Twitter_Emotion_Dataset.csv')\n",
    "df"
   ]
  },
  {
   "cell_type": "code",
   "execution_count": 3,
   "metadata": {
    "ExecuteTime": {
     "end_time": "2021-04-17T14:46:01.620519Z",
     "start_time": "2021-04-17T14:46:01.616124Z"
    },
    "scrolled": false
   },
   "outputs": [
    {
     "data": {
      "text/plain": [
       "anger      1101\n",
       "happy      1017\n",
       "sadness     997\n",
       "fear        649\n",
       "love        637\n",
       "Name: label, dtype: int64"
      ]
     },
     "execution_count": 3,
     "metadata": {},
     "output_type": "execute_result"
    }
   ],
   "source": [
    "df['label'].value_counts()"
   ]
  },
  {
   "cell_type": "code",
   "execution_count": 4,
   "metadata": {
    "ExecuteTime": {
     "end_time": "2021-04-17T14:46:01.745093Z",
     "start_time": "2021-04-17T14:46:01.621688Z"
    }
   },
   "outputs": [],
   "source": [
    "# switch column position\n",
    "\n",
    "cols = df.columns.tolist()\n",
    "cols = cols[-1:] + cols[:-1]\n",
    "df = df[cols]"
   ]
  },
  {
   "cell_type": "code",
   "execution_count": 5,
   "metadata": {
    "ExecuteTime": {
     "end_time": "2021-04-17T14:46:01.765617Z",
     "start_time": "2021-04-17T14:46:01.746316Z"
    },
    "scrolled": false
   },
   "outputs": [
    {
     "data": {
      "text/html": [
       "<div>\n",
       "<style scoped>\n",
       "    .dataframe tbody tr th:only-of-type {\n",
       "        vertical-align: middle;\n",
       "    }\n",
       "\n",
       "    .dataframe tbody tr th {\n",
       "        vertical-align: top;\n",
       "    }\n",
       "\n",
       "    .dataframe thead th {\n",
       "        text-align: right;\n",
       "    }\n",
       "</style>\n",
       "<table border=\"1\" class=\"dataframe\">\n",
       "  <thead>\n",
       "    <tr style=\"text-align: right;\">\n",
       "      <th></th>\n",
       "      <th>tweet</th>\n",
       "      <th>label</th>\n",
       "    </tr>\n",
       "  </thead>\n",
       "  <tbody>\n",
       "    <tr>\n",
       "      <th>0</th>\n",
       "      <td>Soal jln Jatibaru,polisi tdk bs GERTAK gubernu...</td>\n",
       "      <td>anger</td>\n",
       "    </tr>\n",
       "    <tr>\n",
       "      <th>1</th>\n",
       "      <td>Sesama cewe lho (kayaknya), harusnya bisa lebi...</td>\n",
       "      <td>anger</td>\n",
       "    </tr>\n",
       "    <tr>\n",
       "      <th>2</th>\n",
       "      <td>Kepingin gudeg mbarek Bu hj. Amad Foto dari go...</td>\n",
       "      <td>happy</td>\n",
       "    </tr>\n",
       "    <tr>\n",
       "      <th>3</th>\n",
       "      <td>Jln Jatibaru,bagian dari wilayah Tn Abang.Peng...</td>\n",
       "      <td>anger</td>\n",
       "    </tr>\n",
       "    <tr>\n",
       "      <th>4</th>\n",
       "      <td>Sharing pengalaman aja, kemarin jam 18.00 bata...</td>\n",
       "      <td>happy</td>\n",
       "    </tr>\n",
       "    <tr>\n",
       "      <th>...</th>\n",
       "      <td>...</td>\n",
       "      <td>...</td>\n",
       "    </tr>\n",
       "    <tr>\n",
       "      <th>4396</th>\n",
       "      <td>Tahukah kamu, bahwa saat itu papa memejamkan m...</td>\n",
       "      <td>love</td>\n",
       "    </tr>\n",
       "    <tr>\n",
       "      <th>4397</th>\n",
       "      <td>Sulitnya menetapkan Calon Wapresnya Jokowi di ...</td>\n",
       "      <td>fear</td>\n",
       "    </tr>\n",
       "    <tr>\n",
       "      <th>4398</th>\n",
       "      <td>5. masa depannya nggak jelas. lha iya, gimana ...</td>\n",
       "      <td>anger</td>\n",
       "    </tr>\n",
       "    <tr>\n",
       "      <th>4399</th>\n",
       "      <td>[USERNAME] dulu beneran ada mahasiswa Teknik U...</td>\n",
       "      <td>happy</td>\n",
       "    </tr>\n",
       "    <tr>\n",
       "      <th>4400</th>\n",
       "      <td>Ya Allah, hanya Engkau yang mengetahui rasa sa...</td>\n",
       "      <td>sadness</td>\n",
       "    </tr>\n",
       "  </tbody>\n",
       "</table>\n",
       "<p>4401 rows × 2 columns</p>\n",
       "</div>"
      ],
      "text/plain": [
       "                                                  tweet    label\n",
       "0     Soal jln Jatibaru,polisi tdk bs GERTAK gubernu...    anger\n",
       "1     Sesama cewe lho (kayaknya), harusnya bisa lebi...    anger\n",
       "2     Kepingin gudeg mbarek Bu hj. Amad Foto dari go...    happy\n",
       "3     Jln Jatibaru,bagian dari wilayah Tn Abang.Peng...    anger\n",
       "4     Sharing pengalaman aja, kemarin jam 18.00 bata...    happy\n",
       "...                                                 ...      ...\n",
       "4396  Tahukah kamu, bahwa saat itu papa memejamkan m...     love\n",
       "4397  Sulitnya menetapkan Calon Wapresnya Jokowi di ...     fear\n",
       "4398  5. masa depannya nggak jelas. lha iya, gimana ...    anger\n",
       "4399  [USERNAME] dulu beneran ada mahasiswa Teknik U...    happy\n",
       "4400  Ya Allah, hanya Engkau yang mengetahui rasa sa...  sadness\n",
       "\n",
       "[4401 rows x 2 columns]"
      ]
     },
     "execution_count": 5,
     "metadata": {},
     "output_type": "execute_result"
    }
   ],
   "source": [
    "df"
   ]
  },
  {
   "cell_type": "markdown",
   "metadata": {},
   "source": [
    "## Data Preprocessing"
   ]
  },
  {
   "cell_type": "markdown",
   "metadata": {},
   "source": [
    "### Remove Special Characters"
   ]
  },
  {
   "cell_type": "code",
   "execution_count": 6,
   "metadata": {
    "ExecuteTime": {
     "end_time": "2021-04-17T14:46:01.841857Z",
     "start_time": "2021-04-17T14:46:01.766771Z"
    }
   },
   "outputs": [],
   "source": [
    "df['cleaned_1'] = df['tweet'].str.replace('\\W', ' ')"
   ]
  },
  {
   "cell_type": "markdown",
   "metadata": {},
   "source": [
    "### Remove Punctuations"
   ]
  },
  {
   "cell_type": "code",
   "execution_count": 7,
   "metadata": {
    "ExecuteTime": {
     "end_time": "2021-04-17T14:46:01.857564Z",
     "start_time": "2021-04-17T14:46:01.842880Z"
    }
   },
   "outputs": [],
   "source": [
    "df[\"cleaned_2\"] = df['cleaned_1'].str.replace('[^\\w\\s]','')"
   ]
  },
  {
   "cell_type": "markdown",
   "metadata": {},
   "source": [
    "### Remove Unnecessary Strings\n",
    "List of Strings: \"username\", \"url\", \"sensitive-no\""
   ]
  },
  {
   "cell_type": "code",
   "execution_count": 8,
   "metadata": {
    "ExecuteTime": {
     "end_time": "2021-04-17T14:46:01.884575Z",
     "start_time": "2021-04-17T14:46:01.859219Z"
    }
   },
   "outputs": [],
   "source": [
    "def remove_unnecesary_strings(data, word):\n",
    "    data = data.str.replace(' '+str(word), '')\n",
    "    data = data.str.replace(str(word)+' ', '')\n",
    "    data = data.str.replace(' '+str(word)+' ', '')\n",
    "    return data"
   ]
  },
  {
   "cell_type": "code",
   "execution_count": 9,
   "metadata": {
    "ExecuteTime": {
     "end_time": "2021-04-17T14:46:01.961271Z",
     "start_time": "2021-04-17T14:46:01.890514Z"
    }
   },
   "outputs": [],
   "source": [
    "df['cleaned_3'] = remove_unnecesary_strings(df['cleaned_2'], 'username')\n",
    "df['cleaned_3'] = remove_unnecesary_strings(df['cleaned_3'], 'url')\n",
    "df['cleaned_3'] = remove_unnecesary_strings(df['cleaned_3'], 'sensitive-no')"
   ]
  },
  {
   "cell_type": "markdown",
   "metadata": {},
   "source": [
    "### Indonesian Word Lemmatization or Word Stemming"
   ]
  },
  {
   "cell_type": "code",
   "execution_count": 10,
   "metadata": {
    "ExecuteTime": {
     "end_time": "2021-04-17T14:46:01.992457Z",
     "start_time": "2021-04-17T14:46:01.962369Z"
    }
   },
   "outputs": [],
   "source": [
    "# lematisasi kata menjadi kata dasar dengan menghilangkan imbuhannya\n",
    "factory = StemmerFactory()\n",
    "stemmer = factory.create_stemmer()\n",
    "def lemmatize_words(tweets):\n",
    "    nrows = len(tweets)\n",
    "    lemmatized_text_list = []\n",
    "    \n",
    "    for row in range(0, nrows):\n",
    "        list_of_words = []\n",
    "        words = stemmer.stem(tweets)\n",
    "        list_of_words.append(words)\n",
    "    \n",
    "    lemmatized_text = \" \".join(list_of_words)\n",
    "    lemmatized_text_list.append(lemmatized_text)\n",
    "    \n",
    "    return lemmatized_text_list"
   ]
  },
  {
   "cell_type": "code",
   "execution_count": 11,
   "metadata": {
    "ExecuteTime": {
     "end_time": "2021-04-17T14:46:28.172221Z",
     "start_time": "2021-04-17T14:46:01.993566Z"
    }
   },
   "outputs": [],
   "source": [
    "df['cleaned_4'] = df['cleaned_3'].apply(lemmatize_words)\n",
    "df['cleaned_4'] = df['cleaned_4'].str[0]"
   ]
  },
  {
   "cell_type": "markdown",
   "metadata": {},
   "source": [
    "### Remove Indonesian Stopwords"
   ]
  },
  {
   "cell_type": "code",
   "execution_count": 12,
   "metadata": {
    "ExecuteTime": {
     "end_time": "2021-04-17T14:46:28.222807Z",
     "start_time": "2021-04-17T14:46:28.173278Z"
    }
   },
   "outputs": [],
   "source": [
    "stop_words = pd.read_csv('datasets/stopwords-id.txt', names=['stopwords'], header=None)\n",
    "\n",
    "def stopwords(tweets):\n",
    "    for stop_word in stop_words:\n",
    "        regex_stopword = r\"\\b\" + stop_word + r\"\\b\"\n",
    "        tweets = tweets.replace(regex_stopword, '')\n",
    "    return tweets"
   ]
  },
  {
   "cell_type": "code",
   "execution_count": 13,
   "metadata": {
    "ExecuteTime": {
     "end_time": "2021-04-17T14:46:28.353953Z",
     "start_time": "2021-04-17T14:46:28.223919Z"
    }
   },
   "outputs": [],
   "source": [
    "df['cleaned_5'] = df['cleaned_4'].apply(stopwords)"
   ]
  },
  {
   "cell_type": "markdown",
   "metadata": {},
   "source": [
    "### Get Tweet Length"
   ]
  },
  {
   "cell_type": "code",
   "execution_count": 14,
   "metadata": {
    "ExecuteTime": {
     "end_time": "2021-04-17T14:46:28.408280Z",
     "start_time": "2021-04-17T14:46:28.357513Z"
    }
   },
   "outputs": [],
   "source": [
    "def get_length(df):\n",
    "    length = []\n",
    "    for i in range(len(df)):\n",
    "        length.append(len(df[i].split()))\n",
    "    return length\n",
    "\n",
    "df['tweets_length'] = get_length(df['cleaned_5'])"
   ]
  },
  {
   "cell_type": "code",
   "execution_count": 15,
   "metadata": {
    "ExecuteTime": {
     "end_time": "2021-04-17T14:46:29.945293Z",
     "start_time": "2021-04-17T14:46:29.931628Z"
    }
   },
   "outputs": [
    {
     "data": {
      "text/html": [
       "<div>\n",
       "<style scoped>\n",
       "    .dataframe tbody tr th:only-of-type {\n",
       "        vertical-align: middle;\n",
       "    }\n",
       "\n",
       "    .dataframe tbody tr th {\n",
       "        vertical-align: top;\n",
       "    }\n",
       "\n",
       "    .dataframe thead th {\n",
       "        text-align: right;\n",
       "    }\n",
       "</style>\n",
       "<table border=\"1\" class=\"dataframe\">\n",
       "  <thead>\n",
       "    <tr style=\"text-align: right;\">\n",
       "      <th></th>\n",
       "      <th>tweet</th>\n",
       "      <th>label</th>\n",
       "      <th>cleaned_1</th>\n",
       "      <th>cleaned_2</th>\n",
       "      <th>cleaned_3</th>\n",
       "      <th>cleaned_4</th>\n",
       "      <th>cleaned_5</th>\n",
       "      <th>tweets_length</th>\n",
       "    </tr>\n",
       "  </thead>\n",
       "  <tbody>\n",
       "    <tr>\n",
       "      <th>0</th>\n",
       "      <td>Soal jln Jatibaru,polisi tdk bs GERTAK gubernu...</td>\n",
       "      <td>anger</td>\n",
       "      <td>Soal jln Jatibaru polisi tdk bs GERTAK gubernu...</td>\n",
       "      <td>Soal jln Jatibaru polisi tdk bs GERTAK gubernu...</td>\n",
       "      <td>Soal jln Jatibaru polisi tdk bs GERTAK gubernu...</td>\n",
       "      <td>soal jln jatibaru polisi tdk bs gertak gubernu...</td>\n",
       "      <td>soal jln jatibaru polisi tdk bs gertak gubernu...</td>\n",
       "      <td>31</td>\n",
       "    </tr>\n",
       "    <tr>\n",
       "      <th>1</th>\n",
       "      <td>Sesama cewe lho (kayaknya), harusnya bisa lebi...</td>\n",
       "      <td>anger</td>\n",
       "      <td>Sesama cewe lho  kayaknya   harusnya bisa lebi...</td>\n",
       "      <td>Sesama cewe lho  kayaknya   harusnya bisa lebi...</td>\n",
       "      <td>Sesama cewe lho  kayaknya   harusnya bisa lebi...</td>\n",
       "      <td>sama cewe lho kayak harus bisa lebih rasain la...</td>\n",
       "      <td>sama cewe lho kayak harus bisa lebih rasain la...</td>\n",
       "      <td>35</td>\n",
       "    </tr>\n",
       "    <tr>\n",
       "      <th>2</th>\n",
       "      <td>Kepingin gudeg mbarek Bu hj. Amad Foto dari go...</td>\n",
       "      <td>happy</td>\n",
       "      <td>Kepingin gudeg mbarek Bu hj  Amad Foto dari go...</td>\n",
       "      <td>Kepingin gudeg mbarek Bu hj  Amad Foto dari go...</td>\n",
       "      <td>Kepingin gudeg mbarek Bu hj  Amad Foto dari go...</td>\n",
       "      <td>kepingin gudeg mbarek bu hj amad foto dari goo...</td>\n",
       "      <td>kepingin gudeg mbarek bu hj amad foto dari goo...</td>\n",
       "      <td>18</td>\n",
       "    </tr>\n",
       "    <tr>\n",
       "      <th>3</th>\n",
       "      <td>Jln Jatibaru,bagian dari wilayah Tn Abang.Peng...</td>\n",
       "      <td>anger</td>\n",
       "      <td>Jln Jatibaru bagian dari wilayah Tn Abang Peng...</td>\n",
       "      <td>Jln Jatibaru bagian dari wilayah Tn Abang Peng...</td>\n",
       "      <td>Jln Jatibaru bagian dari wilayah Tn Abang Peng...</td>\n",
       "      <td>jln jatibaru bagi dari wilayah tn abang atur w...</td>\n",
       "      <td>jln jatibaru bagi dari wilayah tn abang atur w...</td>\n",
       "      <td>41</td>\n",
       "    </tr>\n",
       "    <tr>\n",
       "      <th>4</th>\n",
       "      <td>Sharing pengalaman aja, kemarin jam 18.00 bata...</td>\n",
       "      <td>happy</td>\n",
       "      <td>Sharing pengalaman aja  kemarin jam 18 00 bata...</td>\n",
       "      <td>Sharing pengalaman aja  kemarin jam 18 00 bata...</td>\n",
       "      <td>Sharing pengalaman aja  kemarin jam 18 00 bata...</td>\n",
       "      <td>sharing alam aja kemarin jam 18 00 batalin tik...</td>\n",
       "      <td>sharing alam aja kemarin jam 18 00 batalin tik...</td>\n",
       "      <td>33</td>\n",
       "    </tr>\n",
       "    <tr>\n",
       "      <th>...</th>\n",
       "      <td>...</td>\n",
       "      <td>...</td>\n",
       "      <td>...</td>\n",
       "      <td>...</td>\n",
       "      <td>...</td>\n",
       "      <td>...</td>\n",
       "      <td>...</td>\n",
       "      <td>...</td>\n",
       "    </tr>\n",
       "    <tr>\n",
       "      <th>4396</th>\n",
       "      <td>Tahukah kamu, bahwa saat itu papa memejamkan m...</td>\n",
       "      <td>love</td>\n",
       "      <td>Tahukah kamu  bahwa saat itu papa memejamkan m...</td>\n",
       "      <td>Tahukah kamu  bahwa saat itu papa memejamkan m...</td>\n",
       "      <td>Tahukah kamu  bahwa saat itu papa memejamkan m...</td>\n",
       "      <td>tahu kamu bahwa saat itu papa mejam mata dan t...</td>\n",
       "      <td>tahu kamu bahwa saat itu papa mejam mata dan t...</td>\n",
       "      <td>25</td>\n",
       "    </tr>\n",
       "    <tr>\n",
       "      <th>4397</th>\n",
       "      <td>Sulitnya menetapkan Calon Wapresnya Jokowi di ...</td>\n",
       "      <td>fear</td>\n",
       "      <td>Sulitnya menetapkan Calon Wapresnya Jokowi di ...</td>\n",
       "      <td>Sulitnya menetapkan Calon Wapresnya Jokowi di ...</td>\n",
       "      <td>Sulitnya menetapkan Calon Wapresnya Jokowi di ...</td>\n",
       "      <td>sulit tetap calon wapresnya jokowi di pilpres ...</td>\n",
       "      <td>sulit tetap calon wapresnya jokowi di pilpres ...</td>\n",
       "      <td>36</td>\n",
       "    </tr>\n",
       "    <tr>\n",
       "      <th>4398</th>\n",
       "      <td>5. masa depannya nggak jelas. lha iya, gimana ...</td>\n",
       "      <td>anger</td>\n",
       "      <td>5  masa depannya nggak jelas  lha iya  gimana ...</td>\n",
       "      <td>5  masa depannya nggak jelas  lha iya  gimana ...</td>\n",
       "      <td>5  masa depannya nggak jelas  lha iya  gimana ...</td>\n",
       "      <td>5 masa depan nggak jelas lha iya gimana mau je...</td>\n",
       "      <td>5 masa depan nggak jelas lha iya gimana mau je...</td>\n",
       "      <td>31</td>\n",
       "    </tr>\n",
       "    <tr>\n",
       "      <th>4399</th>\n",
       "      <td>[USERNAME] dulu beneran ada mahasiswa Teknik U...</td>\n",
       "      <td>happy</td>\n",
       "      <td>USERNAME  dulu beneran ada mahasiswa Teknik U...</td>\n",
       "      <td>USERNAME  dulu beneran ada mahasiswa Teknik U...</td>\n",
       "      <td>USERNAME  dulu beneran ada mahasiswa Teknik U...</td>\n",
       "      <td>username dulu beneran ada mahasiswa teknik ui ...</td>\n",
       "      <td>username dulu beneran ada mahasiswa teknik ui ...</td>\n",
       "      <td>36</td>\n",
       "    </tr>\n",
       "    <tr>\n",
       "      <th>4400</th>\n",
       "      <td>Ya Allah, hanya Engkau yang mengetahui rasa sa...</td>\n",
       "      <td>sadness</td>\n",
       "      <td>Ya Allah  hanya Engkau yang mengetahui rasa sa...</td>\n",
       "      <td>Ya Allah  hanya Engkau yang mengetahui rasa sa...</td>\n",
       "      <td>Ya Allah  hanya Engkau yang mengetahui rasa sa...</td>\n",
       "      <td>ya allah hanya engkau yang tahu rasa sakit di ...</td>\n",
       "      <td>ya allah hanya engkau yang tahu rasa sakit di ...</td>\n",
       "      <td>14</td>\n",
       "    </tr>\n",
       "  </tbody>\n",
       "</table>\n",
       "<p>4401 rows × 8 columns</p>\n",
       "</div>"
      ],
      "text/plain": [
       "                                                  tweet    label  \\\n",
       "0     Soal jln Jatibaru,polisi tdk bs GERTAK gubernu...    anger   \n",
       "1     Sesama cewe lho (kayaknya), harusnya bisa lebi...    anger   \n",
       "2     Kepingin gudeg mbarek Bu hj. Amad Foto dari go...    happy   \n",
       "3     Jln Jatibaru,bagian dari wilayah Tn Abang.Peng...    anger   \n",
       "4     Sharing pengalaman aja, kemarin jam 18.00 bata...    happy   \n",
       "...                                                 ...      ...   \n",
       "4396  Tahukah kamu, bahwa saat itu papa memejamkan m...     love   \n",
       "4397  Sulitnya menetapkan Calon Wapresnya Jokowi di ...     fear   \n",
       "4398  5. masa depannya nggak jelas. lha iya, gimana ...    anger   \n",
       "4399  [USERNAME] dulu beneran ada mahasiswa Teknik U...    happy   \n",
       "4400  Ya Allah, hanya Engkau yang mengetahui rasa sa...  sadness   \n",
       "\n",
       "                                              cleaned_1  \\\n",
       "0     Soal jln Jatibaru polisi tdk bs GERTAK gubernu...   \n",
       "1     Sesama cewe lho  kayaknya   harusnya bisa lebi...   \n",
       "2     Kepingin gudeg mbarek Bu hj  Amad Foto dari go...   \n",
       "3     Jln Jatibaru bagian dari wilayah Tn Abang Peng...   \n",
       "4     Sharing pengalaman aja  kemarin jam 18 00 bata...   \n",
       "...                                                 ...   \n",
       "4396  Tahukah kamu  bahwa saat itu papa memejamkan m...   \n",
       "4397  Sulitnya menetapkan Calon Wapresnya Jokowi di ...   \n",
       "4398  5  masa depannya nggak jelas  lha iya  gimana ...   \n",
       "4399   USERNAME  dulu beneran ada mahasiswa Teknik U...   \n",
       "4400  Ya Allah  hanya Engkau yang mengetahui rasa sa...   \n",
       "\n",
       "                                              cleaned_2  \\\n",
       "0     Soal jln Jatibaru polisi tdk bs GERTAK gubernu...   \n",
       "1     Sesama cewe lho  kayaknya   harusnya bisa lebi...   \n",
       "2     Kepingin gudeg mbarek Bu hj  Amad Foto dari go...   \n",
       "3     Jln Jatibaru bagian dari wilayah Tn Abang Peng...   \n",
       "4     Sharing pengalaman aja  kemarin jam 18 00 bata...   \n",
       "...                                                 ...   \n",
       "4396  Tahukah kamu  bahwa saat itu papa memejamkan m...   \n",
       "4397  Sulitnya menetapkan Calon Wapresnya Jokowi di ...   \n",
       "4398  5  masa depannya nggak jelas  lha iya  gimana ...   \n",
       "4399   USERNAME  dulu beneran ada mahasiswa Teknik U...   \n",
       "4400  Ya Allah  hanya Engkau yang mengetahui rasa sa...   \n",
       "\n",
       "                                              cleaned_3  \\\n",
       "0     Soal jln Jatibaru polisi tdk bs GERTAK gubernu...   \n",
       "1     Sesama cewe lho  kayaknya   harusnya bisa lebi...   \n",
       "2     Kepingin gudeg mbarek Bu hj  Amad Foto dari go...   \n",
       "3     Jln Jatibaru bagian dari wilayah Tn Abang Peng...   \n",
       "4     Sharing pengalaman aja  kemarin jam 18 00 bata...   \n",
       "...                                                 ...   \n",
       "4396  Tahukah kamu  bahwa saat itu papa memejamkan m...   \n",
       "4397  Sulitnya menetapkan Calon Wapresnya Jokowi di ...   \n",
       "4398  5  masa depannya nggak jelas  lha iya  gimana ...   \n",
       "4399   USERNAME  dulu beneran ada mahasiswa Teknik U...   \n",
       "4400  Ya Allah  hanya Engkau yang mengetahui rasa sa...   \n",
       "\n",
       "                                              cleaned_4  \\\n",
       "0     soal jln jatibaru polisi tdk bs gertak gubernu...   \n",
       "1     sama cewe lho kayak harus bisa lebih rasain la...   \n",
       "2     kepingin gudeg mbarek bu hj amad foto dari goo...   \n",
       "3     jln jatibaru bagi dari wilayah tn abang atur w...   \n",
       "4     sharing alam aja kemarin jam 18 00 batalin tik...   \n",
       "...                                                 ...   \n",
       "4396  tahu kamu bahwa saat itu papa mejam mata dan t...   \n",
       "4397  sulit tetap calon wapresnya jokowi di pilpres ...   \n",
       "4398  5 masa depan nggak jelas lha iya gimana mau je...   \n",
       "4399  username dulu beneran ada mahasiswa teknik ui ...   \n",
       "4400  ya allah hanya engkau yang tahu rasa sakit di ...   \n",
       "\n",
       "                                              cleaned_5  tweets_length  \n",
       "0     soal jln jatibaru polisi tdk bs gertak gubernu...             31  \n",
       "1     sama cewe lho kayak harus bisa lebih rasain la...             35  \n",
       "2     kepingin gudeg mbarek bu hj amad foto dari goo...             18  \n",
       "3     jln jatibaru bagi dari wilayah tn abang atur w...             41  \n",
       "4     sharing alam aja kemarin jam 18 00 batalin tik...             33  \n",
       "...                                                 ...            ...  \n",
       "4396  tahu kamu bahwa saat itu papa mejam mata dan t...             25  \n",
       "4397  sulit tetap calon wapresnya jokowi di pilpres ...             36  \n",
       "4398  5 masa depan nggak jelas lha iya gimana mau je...             31  \n",
       "4399  username dulu beneran ada mahasiswa teknik ui ...             36  \n",
       "4400  ya allah hanya engkau yang tahu rasa sakit di ...             14  \n",
       "\n",
       "[4401 rows x 8 columns]"
      ]
     },
     "execution_count": 15,
     "metadata": {},
     "output_type": "execute_result"
    }
   ],
   "source": [
    "df"
   ]
  },
  {
   "cell_type": "code",
   "execution_count": 16,
   "metadata": {
    "ExecuteTime": {
     "end_time": "2021-04-17T14:46:30.852407Z",
     "start_time": "2021-04-17T14:46:30.480710Z"
    }
   },
   "outputs": [],
   "source": [
    "# df.to_csv('datasets/df_comparisons.csv')"
   ]
  },
  {
   "cell_type": "code",
   "execution_count": 17,
   "metadata": {
    "ExecuteTime": {
     "end_time": "2021-04-17T14:46:31.044571Z",
     "start_time": "2021-04-17T14:46:31.018422Z"
    }
   },
   "outputs": [
    {
     "data": {
      "text/html": [
       "<div>\n",
       "<style scoped>\n",
       "    .dataframe tbody tr th:only-of-type {\n",
       "        vertical-align: middle;\n",
       "    }\n",
       "\n",
       "    .dataframe tbody tr th {\n",
       "        vertical-align: top;\n",
       "    }\n",
       "\n",
       "    .dataframe thead th {\n",
       "        text-align: right;\n",
       "    }\n",
       "</style>\n",
       "<table border=\"1\" class=\"dataframe\">\n",
       "  <thead>\n",
       "    <tr style=\"text-align: right;\">\n",
       "      <th></th>\n",
       "      <th>label</th>\n",
       "      <th>tweet</th>\n",
       "      <th>tweets_length</th>\n",
       "      <th>cleaned_tweets</th>\n",
       "    </tr>\n",
       "  </thead>\n",
       "  <tbody>\n",
       "    <tr>\n",
       "      <th>0</th>\n",
       "      <td>anger</td>\n",
       "      <td>Soal jln Jatibaru,polisi tdk bs GERTAK gubernu...</td>\n",
       "      <td>31</td>\n",
       "      <td>soal jln jatibaru polisi tdk bs gertak gubernu...</td>\n",
       "    </tr>\n",
       "    <tr>\n",
       "      <th>1</th>\n",
       "      <td>anger</td>\n",
       "      <td>Sesama cewe lho (kayaknya), harusnya bisa lebi...</td>\n",
       "      <td>35</td>\n",
       "      <td>sama cewe lho kayak harus bisa lebih rasain la...</td>\n",
       "    </tr>\n",
       "    <tr>\n",
       "      <th>2</th>\n",
       "      <td>happy</td>\n",
       "      <td>Kepingin gudeg mbarek Bu hj. Amad Foto dari go...</td>\n",
       "      <td>18</td>\n",
       "      <td>kepingin gudeg mbarek bu hj amad foto dari goo...</td>\n",
       "    </tr>\n",
       "    <tr>\n",
       "      <th>3</th>\n",
       "      <td>anger</td>\n",
       "      <td>Jln Jatibaru,bagian dari wilayah Tn Abang.Peng...</td>\n",
       "      <td>41</td>\n",
       "      <td>jln jatibaru bagi dari wilayah tn abang atur w...</td>\n",
       "    </tr>\n",
       "    <tr>\n",
       "      <th>4</th>\n",
       "      <td>happy</td>\n",
       "      <td>Sharing pengalaman aja, kemarin jam 18.00 bata...</td>\n",
       "      <td>33</td>\n",
       "      <td>sharing alam aja kemarin jam 18 00 batalin tik...</td>\n",
       "    </tr>\n",
       "    <tr>\n",
       "      <th>...</th>\n",
       "      <td>...</td>\n",
       "      <td>...</td>\n",
       "      <td>...</td>\n",
       "      <td>...</td>\n",
       "    </tr>\n",
       "    <tr>\n",
       "      <th>4396</th>\n",
       "      <td>love</td>\n",
       "      <td>Tahukah kamu, bahwa saat itu papa memejamkan m...</td>\n",
       "      <td>25</td>\n",
       "      <td>tahu kamu bahwa saat itu papa mejam mata dan t...</td>\n",
       "    </tr>\n",
       "    <tr>\n",
       "      <th>4397</th>\n",
       "      <td>fear</td>\n",
       "      <td>Sulitnya menetapkan Calon Wapresnya Jokowi di ...</td>\n",
       "      <td>36</td>\n",
       "      <td>sulit tetap calon wapresnya jokowi di pilpres ...</td>\n",
       "    </tr>\n",
       "    <tr>\n",
       "      <th>4398</th>\n",
       "      <td>anger</td>\n",
       "      <td>5. masa depannya nggak jelas. lha iya, gimana ...</td>\n",
       "      <td>31</td>\n",
       "      <td>5 masa depan nggak jelas lha iya gimana mau je...</td>\n",
       "    </tr>\n",
       "    <tr>\n",
       "      <th>4399</th>\n",
       "      <td>happy</td>\n",
       "      <td>[USERNAME] dulu beneran ada mahasiswa Teknik U...</td>\n",
       "      <td>36</td>\n",
       "      <td>username dulu beneran ada mahasiswa teknik ui ...</td>\n",
       "    </tr>\n",
       "    <tr>\n",
       "      <th>4400</th>\n",
       "      <td>sadness</td>\n",
       "      <td>Ya Allah, hanya Engkau yang mengetahui rasa sa...</td>\n",
       "      <td>14</td>\n",
       "      <td>ya allah hanya engkau yang tahu rasa sakit di ...</td>\n",
       "    </tr>\n",
       "  </tbody>\n",
       "</table>\n",
       "<p>4401 rows × 4 columns</p>\n",
       "</div>"
      ],
      "text/plain": [
       "        label                                              tweet  \\\n",
       "0       anger  Soal jln Jatibaru,polisi tdk bs GERTAK gubernu...   \n",
       "1       anger  Sesama cewe lho (kayaknya), harusnya bisa lebi...   \n",
       "2       happy  Kepingin gudeg mbarek Bu hj. Amad Foto dari go...   \n",
       "3       anger  Jln Jatibaru,bagian dari wilayah Tn Abang.Peng...   \n",
       "4       happy  Sharing pengalaman aja, kemarin jam 18.00 bata...   \n",
       "...       ...                                                ...   \n",
       "4396     love  Tahukah kamu, bahwa saat itu papa memejamkan m...   \n",
       "4397     fear  Sulitnya menetapkan Calon Wapresnya Jokowi di ...   \n",
       "4398    anger  5. masa depannya nggak jelas. lha iya, gimana ...   \n",
       "4399    happy  [USERNAME] dulu beneran ada mahasiswa Teknik U...   \n",
       "4400  sadness  Ya Allah, hanya Engkau yang mengetahui rasa sa...   \n",
       "\n",
       "      tweets_length                                     cleaned_tweets  \n",
       "0                31  soal jln jatibaru polisi tdk bs gertak gubernu...  \n",
       "1                35  sama cewe lho kayak harus bisa lebih rasain la...  \n",
       "2                18  kepingin gudeg mbarek bu hj amad foto dari goo...  \n",
       "3                41  jln jatibaru bagi dari wilayah tn abang atur w...  \n",
       "4                33  sharing alam aja kemarin jam 18 00 batalin tik...  \n",
       "...             ...                                                ...  \n",
       "4396             25  tahu kamu bahwa saat itu papa mejam mata dan t...  \n",
       "4397             36  sulit tetap calon wapresnya jokowi di pilpres ...  \n",
       "4398             31  5 masa depan nggak jelas lha iya gimana mau je...  \n",
       "4399             36  username dulu beneran ada mahasiswa teknik ui ...  \n",
       "4400             14  ya allah hanya engkau yang tahu rasa sakit di ...  \n",
       "\n",
       "[4401 rows x 4 columns]"
      ]
     },
     "execution_count": 17,
     "metadata": {},
     "output_type": "execute_result"
    }
   ],
   "source": [
    "list_columns = [\"label\", \"tweet\", \"tweets_length\", \"cleaned_5\"]\n",
    "df = df[list_columns]\n",
    "\n",
    "df.rename(columns={'cleaned_5': 'cleaned_tweets'}, inplace=True)\n",
    "df"
   ]
  },
  {
   "cell_type": "markdown",
   "metadata": {},
   "source": [
    "## Label Encoding"
   ]
  },
  {
   "cell_type": "code",
   "execution_count": 18,
   "metadata": {
    "ExecuteTime": {
     "end_time": "2021-04-17T14:46:32.451679Z",
     "start_time": "2021-04-17T14:46:32.441616Z"
    },
    "scrolled": false
   },
   "outputs": [
    {
     "data": {
      "text/plain": [
       "array(['anger', 'happy', 'sadness', 'love', 'fear'], dtype=object)"
      ]
     },
     "execution_count": 18,
     "metadata": {},
     "output_type": "execute_result"
    }
   ],
   "source": [
    "df['label'].unique()"
   ]
  },
  {
   "cell_type": "code",
   "execution_count": 19,
   "metadata": {
    "ExecuteTime": {
     "end_time": "2021-04-17T14:46:32.637876Z",
     "start_time": "2021-04-17T14:46:32.618818Z"
    }
   },
   "outputs": [],
   "source": [
    "# Category mapping\n",
    "label_codes = {\n",
    "    'anger': 0,\n",
    "    'happy': 1,\n",
    "    'sadness': 2,\n",
    "    'love': 3,\n",
    "    'fear': 4\n",
    "}\n",
    "\n",
    "df['label_code'] = df['label']\n",
    "df = df.replace({'label_code':label_codes})"
   ]
  },
  {
   "cell_type": "code",
   "execution_count": 20,
   "metadata": {
    "ExecuteTime": {
     "end_time": "2021-04-17T14:46:32.818051Z",
     "start_time": "2021-04-17T14:46:32.801023Z"
    }
   },
   "outputs": [
    {
     "data": {
      "text/html": [
       "<div>\n",
       "<style scoped>\n",
       "    .dataframe tbody tr th:only-of-type {\n",
       "        vertical-align: middle;\n",
       "    }\n",
       "\n",
       "    .dataframe tbody tr th {\n",
       "        vertical-align: top;\n",
       "    }\n",
       "\n",
       "    .dataframe thead th {\n",
       "        text-align: right;\n",
       "    }\n",
       "</style>\n",
       "<table border=\"1\" class=\"dataframe\">\n",
       "  <thead>\n",
       "    <tr style=\"text-align: right;\">\n",
       "      <th></th>\n",
       "      <th>label</th>\n",
       "      <th>tweet</th>\n",
       "      <th>tweets_length</th>\n",
       "      <th>cleaned_tweets</th>\n",
       "      <th>label_code</th>\n",
       "    </tr>\n",
       "  </thead>\n",
       "  <tbody>\n",
       "    <tr>\n",
       "      <th>0</th>\n",
       "      <td>anger</td>\n",
       "      <td>Soal jln Jatibaru,polisi tdk bs GERTAK gubernu...</td>\n",
       "      <td>31</td>\n",
       "      <td>soal jln jatibaru polisi tdk bs gertak gubernu...</td>\n",
       "      <td>0</td>\n",
       "    </tr>\n",
       "    <tr>\n",
       "      <th>1</th>\n",
       "      <td>anger</td>\n",
       "      <td>Sesama cewe lho (kayaknya), harusnya bisa lebi...</td>\n",
       "      <td>35</td>\n",
       "      <td>sama cewe lho kayak harus bisa lebih rasain la...</td>\n",
       "      <td>0</td>\n",
       "    </tr>\n",
       "    <tr>\n",
       "      <th>2</th>\n",
       "      <td>happy</td>\n",
       "      <td>Kepingin gudeg mbarek Bu hj. Amad Foto dari go...</td>\n",
       "      <td>18</td>\n",
       "      <td>kepingin gudeg mbarek bu hj amad foto dari goo...</td>\n",
       "      <td>1</td>\n",
       "    </tr>\n",
       "    <tr>\n",
       "      <th>3</th>\n",
       "      <td>anger</td>\n",
       "      <td>Jln Jatibaru,bagian dari wilayah Tn Abang.Peng...</td>\n",
       "      <td>41</td>\n",
       "      <td>jln jatibaru bagi dari wilayah tn abang atur w...</td>\n",
       "      <td>0</td>\n",
       "    </tr>\n",
       "    <tr>\n",
       "      <th>4</th>\n",
       "      <td>happy</td>\n",
       "      <td>Sharing pengalaman aja, kemarin jam 18.00 bata...</td>\n",
       "      <td>33</td>\n",
       "      <td>sharing alam aja kemarin jam 18 00 batalin tik...</td>\n",
       "      <td>1</td>\n",
       "    </tr>\n",
       "    <tr>\n",
       "      <th>...</th>\n",
       "      <td>...</td>\n",
       "      <td>...</td>\n",
       "      <td>...</td>\n",
       "      <td>...</td>\n",
       "      <td>...</td>\n",
       "    </tr>\n",
       "    <tr>\n",
       "      <th>4396</th>\n",
       "      <td>love</td>\n",
       "      <td>Tahukah kamu, bahwa saat itu papa memejamkan m...</td>\n",
       "      <td>25</td>\n",
       "      <td>tahu kamu bahwa saat itu papa mejam mata dan t...</td>\n",
       "      <td>3</td>\n",
       "    </tr>\n",
       "    <tr>\n",
       "      <th>4397</th>\n",
       "      <td>fear</td>\n",
       "      <td>Sulitnya menetapkan Calon Wapresnya Jokowi di ...</td>\n",
       "      <td>36</td>\n",
       "      <td>sulit tetap calon wapresnya jokowi di pilpres ...</td>\n",
       "      <td>4</td>\n",
       "    </tr>\n",
       "    <tr>\n",
       "      <th>4398</th>\n",
       "      <td>anger</td>\n",
       "      <td>5. masa depannya nggak jelas. lha iya, gimana ...</td>\n",
       "      <td>31</td>\n",
       "      <td>5 masa depan nggak jelas lha iya gimana mau je...</td>\n",
       "      <td>0</td>\n",
       "    </tr>\n",
       "    <tr>\n",
       "      <th>4399</th>\n",
       "      <td>happy</td>\n",
       "      <td>[USERNAME] dulu beneran ada mahasiswa Teknik U...</td>\n",
       "      <td>36</td>\n",
       "      <td>username dulu beneran ada mahasiswa teknik ui ...</td>\n",
       "      <td>1</td>\n",
       "    </tr>\n",
       "    <tr>\n",
       "      <th>4400</th>\n",
       "      <td>sadness</td>\n",
       "      <td>Ya Allah, hanya Engkau yang mengetahui rasa sa...</td>\n",
       "      <td>14</td>\n",
       "      <td>ya allah hanya engkau yang tahu rasa sakit di ...</td>\n",
       "      <td>2</td>\n",
       "    </tr>\n",
       "  </tbody>\n",
       "</table>\n",
       "<p>4401 rows × 5 columns</p>\n",
       "</div>"
      ],
      "text/plain": [
       "        label                                              tweet  \\\n",
       "0       anger  Soal jln Jatibaru,polisi tdk bs GERTAK gubernu...   \n",
       "1       anger  Sesama cewe lho (kayaknya), harusnya bisa lebi...   \n",
       "2       happy  Kepingin gudeg mbarek Bu hj. Amad Foto dari go...   \n",
       "3       anger  Jln Jatibaru,bagian dari wilayah Tn Abang.Peng...   \n",
       "4       happy  Sharing pengalaman aja, kemarin jam 18.00 bata...   \n",
       "...       ...                                                ...   \n",
       "4396     love  Tahukah kamu, bahwa saat itu papa memejamkan m...   \n",
       "4397     fear  Sulitnya menetapkan Calon Wapresnya Jokowi di ...   \n",
       "4398    anger  5. masa depannya nggak jelas. lha iya, gimana ...   \n",
       "4399    happy  [USERNAME] dulu beneran ada mahasiswa Teknik U...   \n",
       "4400  sadness  Ya Allah, hanya Engkau yang mengetahui rasa sa...   \n",
       "\n",
       "      tweets_length                                     cleaned_tweets  \\\n",
       "0                31  soal jln jatibaru polisi tdk bs gertak gubernu...   \n",
       "1                35  sama cewe lho kayak harus bisa lebih rasain la...   \n",
       "2                18  kepingin gudeg mbarek bu hj amad foto dari goo...   \n",
       "3                41  jln jatibaru bagi dari wilayah tn abang atur w...   \n",
       "4                33  sharing alam aja kemarin jam 18 00 batalin tik...   \n",
       "...             ...                                                ...   \n",
       "4396             25  tahu kamu bahwa saat itu papa mejam mata dan t...   \n",
       "4397             36  sulit tetap calon wapresnya jokowi di pilpres ...   \n",
       "4398             31  5 masa depan nggak jelas lha iya gimana mau je...   \n",
       "4399             36  username dulu beneran ada mahasiswa teknik ui ...   \n",
       "4400             14  ya allah hanya engkau yang tahu rasa sakit di ...   \n",
       "\n",
       "      label_code  \n",
       "0              0  \n",
       "1              0  \n",
       "2              1  \n",
       "3              0  \n",
       "4              1  \n",
       "...          ...  \n",
       "4396           3  \n",
       "4397           4  \n",
       "4398           0  \n",
       "4399           1  \n",
       "4400           2  \n",
       "\n",
       "[4401 rows x 5 columns]"
      ]
     },
     "execution_count": 20,
     "metadata": {},
     "output_type": "execute_result"
    }
   ],
   "source": [
    "df"
   ]
  },
  {
   "cell_type": "markdown",
   "metadata": {},
   "source": [
    "# Data Visualization"
   ]
  },
  {
   "cell_type": "code",
   "execution_count": 21,
   "metadata": {
    "ExecuteTime": {
     "end_time": "2021-04-17T14:46:33.474159Z",
     "start_time": "2021-04-17T14:46:33.464669Z"
    }
   },
   "outputs": [
    {
     "data": {
      "text/plain": [
       "Index(['label', 'tweet', 'tweets_length', 'cleaned_tweets', 'label_code'], dtype='object')"
      ]
     },
     "execution_count": 21,
     "metadata": {},
     "output_type": "execute_result"
    }
   ],
   "source": [
    "df.columns"
   ]
  },
  {
   "cell_type": "code",
   "execution_count": 22,
   "metadata": {
    "ExecuteTime": {
     "end_time": "2021-04-17T14:46:33.846620Z",
     "start_time": "2021-04-17T14:46:33.665911Z"
    }
   },
   "outputs": [
    {
     "data": {
      "image/png": "[encoded data removed]",
      "text/plain": [
       "<Figure size 1080x576 with 1 Axes>"
      ]
     },
     "metadata": {},
     "output_type": "display_data"
    }
   ],
   "source": [
    "#data\n",
    "labels=df['label'].value_counts().index\n",
    "values=df['label'].value_counts().values\n",
    "\n",
    "plt.figure(figsize = (15, 8))\n",
    "plt.title('Emotion Distribution of Tweets')\n",
    "plt.xlabel('Emotions')\n",
    "plt.ylabel('Number of Tweets')\n",
    "ax = sns.barplot(x=labels, y=values, palette=(\"Blues_r\"))\n",
    "for i, p in enumerate(ax.patches):\n",
    "    height = p.get_height()\n",
    "    ax.text(p.get_x()+p.get_width()/2., height + 0.1, values[i],ha=\"center\")"
   ]
  },
  {
   "cell_type": "code",
   "execution_count": 23,
   "metadata": {
    "ExecuteTime": {
     "end_time": "2021-04-17T14:46:33.922481Z",
     "start_time": "2021-04-17T14:46:33.868139Z"
    }
   },
   "outputs": [],
   "source": [
    "df.to_csv('datasets/df_preprocessed.csv')"
   ]
  },
  {
   "cell_type": "code",
   "execution_count": null,
   "metadata": {},
   "outputs": [],
   "source": []
  }
 ],
 "metadata": {
  "kernelspec": {
   "display_name": "Python 3",
   "language": "python",
   "name": "python3"
  },
  "language_info": {
   "codemirror_mode": {
    "name": "ipython",
    "version": 3
   },
   "file_extension": ".py",
   "mimetype": "text/x-python",
   "name": "python",
   "nbconvert_exporter": "python",
   "pygments_lexer": "ipython3",
   "version": "3.8.5"
  },
  "toc": {
   "base_numbering": 1,
   "nav_menu": {},
   "number_sections": true,
   "sideBar": true,
   "skip_h1_title": false,
   "title_cell": "Table of Contents",
   "title_sidebar": "Contents",
   "toc_cell": false,
   "toc_position": {},
   "toc_section_display": true,
   "toc_window_display": true
  }
 },
 "nbformat": 4,
 "nbformat_minor": 4
}

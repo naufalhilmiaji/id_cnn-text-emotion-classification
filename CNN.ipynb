{
 "cells": [
  {
   "cell_type": "markdown",
   "metadata": {},
   "source": [
    "# 1D Convolutional Neural Network"
   ]
  },
  {
   "cell_type": "code",
   "execution_count": 1,
   "metadata": {
    "ExecuteTime": {
     "end_time": "2021-04-17T14:46:46.122138Z",
     "start_time": "2021-04-17T14:46:44.541704Z"
    }
   },
   "outputs": [],
   "source": [
    "import numpy as np\n",
    "import pandas as pd\n",
    "from collections import defaultdict\n",
    "\n",
    "import matplotlib.pyplot as plt\n",
    "\n",
    "import sklearn\n",
    "from sklearn.model_selection import train_test_split\n",
    "\n",
    "import tensorflow as tf\n",
    "from tensorflow.keras.models import load_model\n",
    "from tensorflow.keras.utils import plot_model\n",
    "from tensorflow.keras import models\n",
    "from tensorflow.keras import callbacks\n",
    "from tensorflow.keras.callbacks import ModelCheckpoint, EarlyStopping\n",
    "from tensorflow.keras.preprocessing.text import Tokenizer\n",
    "from tensorflow.keras.preprocessing.sequence import pad_sequences\n",
    "from tensorflow.keras.utils import to_categorical\n",
    "from tensorflow.keras.models import Sequential\n",
    "from tensorflow.keras.layers import Dense, Embedding, Activation, Dropout, Flatten\n",
    "from tensorflow.keras.layers import Conv1D, GlobalMaxPooling1D"
   ]
  },
  {
   "cell_type": "code",
   "execution_count": 2,
   "metadata": {
    "ExecuteTime": {
     "end_time": "2021-04-17T14:46:46.125521Z",
     "start_time": "2021-04-17T14:46:46.123137Z"
    }
   },
   "outputs": [
    {
     "name": "stdout",
     "output_type": "stream",
     "text": [
      "Tensorflow version: 2.4.1\n"
     ]
    }
   ],
   "source": [
    "print('Tensorflow version: {}'.format(tf.__version__))"
   ]
  },
  {
   "cell_type": "markdown",
   "metadata": {},
   "source": [
    "## Load Data"
   ]
  },
  {
   "cell_type": "code",
   "execution_count": 3,
   "metadata": {
    "ExecuteTime": {
     "end_time": "2021-04-17T14:46:54.511699Z",
     "start_time": "2021-04-17T14:46:54.469581Z"
    }
   },
   "outputs": [],
   "source": [
    "df = pd.read_csv('datasets/df_preprocessed.csv')\n",
    "df.drop('Unnamed: 0', 1, inplace=True)"
   ]
  },
  {
   "cell_type": "code",
   "execution_count": 4,
   "metadata": {
    "ExecuteTime": {
     "end_time": "2021-04-17T14:46:57.443328Z",
     "start_time": "2021-04-17T14:46:57.424453Z"
    },
    "scrolled": true
   },
   "outputs": [
    {
     "data": {
      "text/plain": [
       "anger      1101\n",
       "happy      1017\n",
       "sadness     997\n",
       "fear        649\n",
       "love        637\n",
       "Name: label, dtype: int64"
      ]
     },
     "execution_count": 4,
     "metadata": {},
     "output_type": "execute_result"
    }
   ],
   "source": [
    "df['label'].value_counts()"
   ]
  },
  {
   "cell_type": "code",
   "execution_count": 5,
   "metadata": {
    "ExecuteTime": {
     "end_time": "2021-04-17T14:47:03.889730Z",
     "start_time": "2021-04-17T14:47:03.885818Z"
    }
   },
   "outputs": [
    {
     "data": {
      "text/plain": [
       "{0: 'anger', 1: 'happy', 2: 'sadness', 3: 'love', 4: 'fear'}"
      ]
     },
     "execution_count": 5,
     "metadata": {},
     "output_type": "execute_result"
    }
   ],
   "source": [
    "label_and_code = dict(zip(df['label_code'].unique(), df['label'].unique()))\n",
    "label_and_code"
   ]
  },
  {
   "cell_type": "markdown",
   "metadata": {},
   "source": [
    "## Define Needed Parameters"
   ]
  },
  {
   "cell_type": "code",
   "execution_count": 6,
   "metadata": {
    "ExecuteTime": {
     "end_time": "2021-04-17T14:47:52.110354Z",
     "start_time": "2021-04-17T14:47:52.055719Z"
    }
   },
   "outputs": [],
   "source": [
    "sentences = [row.split() for row in df['cleaned_tweets']]\n",
    "word_freq = defaultdict(int)\n",
    "for sent in sentences:\n",
    "    for i in sent:\n",
    "        word_freq[i] += 1"
   ]
  },
  {
   "cell_type": "code",
   "execution_count": 9,
   "metadata": {
    "ExecuteTime": {
     "end_time": "2021-04-17T14:49:30.356024Z",
     "start_time": "2021-04-17T14:49:30.346284Z"
    },
    "scrolled": false
   },
   "outputs": [
    {
     "name": "stdout",
     "output_type": "stream",
     "text": [
      "The Amount of Vocabularies: 14650\n",
      "Maximum Tweet Length: 83\n"
     ]
    }
   ],
   "source": [
    "print('The Amount of Vocabularies: {}'.format(len(word_freq)))\n",
    "print('Maximum Tweet Length: {}'.format(max(df['tweets_length'])))"
   ]
  },
  {
   "cell_type": "markdown",
   "metadata": {},
   "source": [
    "__vocab_size__: using 14650 vocabularies for input dimension. <br>\n",
    "__embedding_dim__: 300 for output dimension. <br>\n",
    "__max_length__: The maximum length of tweets is 83, so we take 83 for the maximum input length.<br>"
   ]
  },
  {
   "cell_type": "code",
   "execution_count": 10,
   "metadata": {
    "ExecuteTime": {
     "end_time": "2021-04-17T14:53:07.442003Z",
     "start_time": "2021-04-17T14:53:07.439921Z"
    }
   },
   "outputs": [],
   "source": [
    "vocab_size = len(word_freq)\n",
    "embedding_dim = 300\n",
    "max_length = 83"
   ]
  },
  {
   "cell_type": "markdown",
   "metadata": {},
   "source": [
    "### Data Split"
   ]
  },
  {
   "cell_type": "code",
   "execution_count": 11,
   "metadata": {
    "ExecuteTime": {
     "end_time": "2021-04-17T14:54:31.075303Z",
     "start_time": "2021-04-17T14:54:31.068776Z"
    }
   },
   "outputs": [
    {
     "name": "stdout",
     "output_type": "stream",
     "text": [
      "Training Set: 3080 rows\n",
      "Validation Set: 1321 rows\n"
     ]
    }
   ],
   "source": [
    "train_set, validation_set = train_test_split(df, train_size=0.7)\n",
    "print('Training Set: {} rows\\nValidation Set: {} rows'.format(len(train_set), len(validation_set)))"
   ]
  },
  {
   "cell_type": "markdown",
   "metadata": {},
   "source": [
    "### Word Tokenizer"
   ]
  },
  {
   "cell_type": "code",
   "execution_count": 12,
   "metadata": {
    "ExecuteTime": {
     "end_time": "2021-04-17T14:54:42.811118Z",
     "start_time": "2021-04-17T14:54:42.712919Z"
    }
   },
   "outputs": [],
   "source": [
    "# tokenize tweets\n",
    "tokenizer = Tokenizer(num_words = vocab_size)\n",
    "tokenizer.fit_on_texts(train_set[\"cleaned_tweets\"])\n",
    "word_index = tokenizer.word_index"
   ]
  },
  {
   "cell_type": "markdown",
   "metadata": {
    "ExecuteTime": {
     "end_time": "2021-01-12T10:29:20.790075Z",
     "start_time": "2021-01-12T10:29:20.787784Z"
    }
   },
   "source": [
    "### Tweets to Sequences\n",
    "Transform text from tweets to Tensorflow's sequences."
   ]
  },
  {
   "cell_type": "code",
   "execution_count": 13,
   "metadata": {
    "ExecuteTime": {
     "end_time": "2021-04-17T14:54:46.477615Z",
     "start_time": "2021-04-17T14:54:46.450351Z"
    }
   },
   "outputs": [],
   "source": [
    "def encode(text):\n",
    "    return tokenizer.texts_to_sequences(text)\n",
    "\n",
    "reverse_word_map = dict(map(reversed, tokenizer.word_index.items()))\n",
    "\n",
    "def decode(list_of_indices):\n",
    "    # Looking up words in dictionary\n",
    "    words = [reverse_word_map.get(letter) for letter in list_of_indices]\n",
    "    return words"
   ]
  },
  {
   "cell_type": "markdown",
   "metadata": {},
   "source": [
    "#### Train Data"
   ]
  },
  {
   "cell_type": "code",
   "execution_count": 14,
   "metadata": {
    "ExecuteTime": {
     "end_time": "2021-04-17T14:54:50.880490Z",
     "start_time": "2021-04-17T14:54:50.775850Z"
    }
   },
   "outputs": [],
   "source": [
    "train_sequences = encode(train_set[\"cleaned_tweets\"])\n",
    "train_padded = pad_sequences(train_sequences, maxlen=max_length, padding='post')"
   ]
  },
  {
   "cell_type": "code",
   "execution_count": 15,
   "metadata": {
    "ExecuteTime": {
     "end_time": "2021-04-17T14:54:53.176617Z",
     "start_time": "2021-04-17T14:54:53.158873Z"
    }
   },
   "outputs": [
    {
     "name": "stdout",
     "output_type": "stream",
     "text": [
      "before pad_sequences:  20\n",
      "after pad_sequences:  83\n",
      "before pad_sequences:  27\n",
      "after pad_sequences:  83\n",
      "before pad_sequences:  22\n",
      "after pad_sequences:  83\n"
     ]
    }
   ],
   "source": [
    "print('before pad_sequences: ',len(train_sequences[0]))\n",
    "print('after pad_sequences: ',len(train_padded[0]))\n",
    "\n",
    "print('before pad_sequences: ',len(train_sequences[1]))\n",
    "print('after pad_sequences: ',len(train_padded[1]))\n",
    "\n",
    "print('before pad_sequences: ',len(train_sequences[10]))\n",
    "print('after pad_sequences: ',len(train_padded[10]))"
   ]
  },
  {
   "cell_type": "code",
   "execution_count": 17,
   "metadata": {
    "ExecuteTime": {
     "end_time": "2021-04-17T14:55:00.325371Z",
     "start_time": "2021-04-17T14:55:00.318609Z"
    }
   },
   "outputs": [
    {
     "name": "stdout",
     "output_type": "stream",
     "text": [
      "(3080, 83)\n"
     ]
    }
   ],
   "source": [
    "print(train_padded.shape)"
   ]
  },
  {
   "cell_type": "markdown",
   "metadata": {},
   "source": [
    "#### Test"
   ]
  },
  {
   "cell_type": "code",
   "execution_count": 18,
   "metadata": {
    "ExecuteTime": {
     "end_time": "2021-04-17T14:55:03.028311Z",
     "start_time": "2021-04-17T14:55:02.999368Z"
    }
   },
   "outputs": [
    {
     "name": "stdout",
     "output_type": "stream",
     "text": [
      "(1321, 83)\n"
     ]
    }
   ],
   "source": [
    "validation_sequences = encode(validation_set['cleaned_tweets'])\n",
    "validation_padded = pad_sequences(validation_sequences, maxlen=max_length, padding='post')\n",
    "\n",
    "print(validation_padded.shape)"
   ]
  },
  {
   "cell_type": "markdown",
   "metadata": {},
   "source": [
    "### Encode Labels to Categorical"
   ]
  },
  {
   "cell_type": "code",
   "execution_count": 19,
   "metadata": {
    "ExecuteTime": {
     "end_time": "2021-04-17T14:55:08.938635Z",
     "start_time": "2021-04-17T14:55:08.933499Z"
    }
   },
   "outputs": [],
   "source": [
    "training_label_enc = to_categorical(train_set['label_code'])\n",
    "validation_label_enc = to_categorical(validation_set['label_code'])"
   ]
  },
  {
   "cell_type": "code",
   "execution_count": 20,
   "metadata": {
    "ExecuteTime": {
     "end_time": "2021-04-17T14:55:09.189783Z",
     "start_time": "2021-04-17T14:55:09.182586Z"
    },
    "scrolled": true
   },
   "outputs": [
    {
     "data": {
      "text/plain": [
       "((3080, 83), (1321, 83), (3080, 5), (1321, 5))"
      ]
     },
     "execution_count": 20,
     "metadata": {},
     "output_type": "execute_result"
    }
   ],
   "source": [
    "train_padded.shape, validation_padded.shape, training_label_enc.shape, validation_label_enc.shape"
   ]
  },
  {
   "cell_type": "markdown",
   "metadata": {},
   "source": [
    "## 1D CNN Architecture\n",
    "Creating model for 1D Convolutional Neural Network"
   ]
  },
  {
   "cell_type": "code",
   "execution_count": 21,
   "metadata": {
    "ExecuteTime": {
     "end_time": "2021-04-17T14:55:52.621774Z",
     "start_time": "2021-04-17T14:55:52.614984Z"
    }
   },
   "outputs": [],
   "source": [
    "def eval_model(x, y, model):\n",
    "    loss, accuracy = model.evaluate(x, y, verbose=False)\n",
    "    return loss, accuracy"
   ]
  },
  {
   "cell_type": "code",
   "execution_count": 24,
   "metadata": {
    "ExecuteTime": {
     "end_time": "2021-04-17T14:56:00.169221Z",
     "start_time": "2021-04-17T14:56:00.157846Z"
    }
   },
   "outputs": [],
   "source": [
    "def create_model(vocab, dim, length): # BEST MODEL\n",
    "    model = Sequential()\n",
    "    model.add(Embedding(vocab+1, dim, input_length=length))\n",
    "    model.add(Dropout(0.2))\n",
    "    model.add(Conv1D(256, 5, activation='relu'))\n",
    "    model.add(GlobalMaxPooling1D())\n",
    "    model.add(Dense(500, activation='relu'))\n",
    "    model.add(Flatten())\n",
    "    model.add(Dropout(0.25))\n",
    "    model.add(Dense(5, activation='softmax'))               \n",
    "    return model"
   ]
  },
  {
   "cell_type": "code",
   "execution_count": 25,
   "metadata": {
    "ExecuteTime": {
     "end_time": "2021-04-17T14:56:00.702082Z",
     "start_time": "2021-04-17T14:56:00.644176Z"
    },
    "scrolled": false
   },
   "outputs": [
    {
     "name": "stdout",
     "output_type": "stream",
     "text": [
      "Model: \"sequential_1\"\n",
      "_________________________________________________________________\n",
      "Layer (type)                 Output Shape              Param #   \n",
      "=================================================================\n",
      "embedding_1 (Embedding)      (None, 83, 300)           4395300   \n",
      "_________________________________________________________________\n",
      "dropout_1 (Dropout)          (None, 83, 300)           0         \n",
      "_________________________________________________________________\n",
      "conv1d_1 (Conv1D)            (None, 79, 256)           384256    \n",
      "_________________________________________________________________\n",
      "global_max_pooling1d_1 (Glob (None, 256)               0         \n",
      "_________________________________________________________________\n",
      "dense_1 (Dense)              (None, 500)               128500    \n",
      "_________________________________________________________________\n",
      "flatten_1 (Flatten)          (None, 500)               0         \n",
      "_________________________________________________________________\n",
      "dropout_2 (Dropout)          (None, 500)               0         \n",
      "_________________________________________________________________\n",
      "dense_2 (Dense)              (None, 5)                 2505      \n",
      "=================================================================\n",
      "Total params: 4,910,561\n",
      "Trainable params: 4,910,561\n",
      "Non-trainable params: 0\n",
      "_________________________________________________________________\n"
     ]
    }
   ],
   "source": [
    "model_cnn = create_model(vocab_size, embedding_dim, max_length)\n",
    "model_cnn.summary()"
   ]
  },
  {
   "cell_type": "markdown",
   "metadata": {},
   "source": [
    "### Model Visualization"
   ]
  },
  {
   "cell_type": "code",
   "execution_count": 26,
   "metadata": {
    "ExecuteTime": {
     "end_time": "2021-04-17T14:56:24.114140Z",
     "start_time": "2021-04-17T14:56:23.983754Z"
    }
   },
   "outputs": [
    {
     "data": {
      "image/png": "[encoded data removed]",
      "text/plain": [
       "<IPython.core.display.Image object>"
      ]
     },
     "execution_count": 26,
     "metadata": {},
     "output_type": "execute_result"
    }
   ],
   "source": [
    "plot_model(model_cnn, to_file='results/visualize_model.png', show_shapes=True, show_layer_names=True)"
   ]
  },
  {
   "cell_type": "markdown",
   "metadata": {},
   "source": [
    "### Model Training"
   ]
  },
  {
   "cell_type": "code",
   "execution_count": 27,
   "metadata": {
    "ExecuteTime": {
     "end_time": "2021-04-17T14:56:50.825772Z",
     "start_time": "2021-04-17T14:56:36.257603Z"
    },
    "scrolled": false
   },
   "outputs": [
    {
     "name": "stdout",
     "output_type": "stream",
     "text": [
      "Epoch 1/100\n",
      "97/97 [==============================] - 5s 47ms/step - loss: 1.5795 - accuracy: 0.2574 - val_loss: 1.1833 - val_accuracy: 0.5602\n",
      "Epoch 2/100\n",
      "97/97 [==============================] - 4s 45ms/step - loss: 0.9744 - accuracy: 0.6523 - val_loss: 0.9380 - val_accuracy: 0.6389\n",
      "Epoch 3/100\n",
      "97/97 [==============================] - 4s 45ms/step - loss: 0.2874 - accuracy: 0.9172 - val_loss: 1.1130 - val_accuracy: 0.6495\n"
     ]
    }
   ],
   "source": [
    "model_cnn.compile(optimizer='adam', loss='categorical_crossentropy', metrics=['accuracy'])\n",
    "es_callbacks = [EarlyStopping(monitor='val_loss'),\n",
    "             ModelCheckpoint(filepath='models/model_checkpoint_cnn.h5', \n",
    "                             monitor='val_accuracy', save_best_only=True, \n",
    "                             mode='max')]\n",
    "\n",
    "\n",
    "history = model_cnn.fit(train_padded,\n",
    "          training_label_enc,\n",
    "          epochs=100,\n",
    "          validation_data=(validation_padded, validation_label_enc),\n",
    "          callbacks=[es_callbacks])"
   ]
  },
  {
   "cell_type": "code",
   "execution_count": 28,
   "metadata": {
    "ExecuteTime": {
     "end_time": "2021-04-17T14:56:53.138454Z",
     "start_time": "2021-04-17T14:56:53.062656Z"
    }
   },
   "outputs": [],
   "source": [
    "model_cnn.save('models/model_cnn.h5')"
   ]
  },
  {
   "cell_type": "markdown",
   "metadata": {},
   "source": [
    "### Model Evaluation"
   ]
  },
  {
   "cell_type": "markdown",
   "metadata": {},
   "source": [
    "#### Accuracy and Loss Plot"
   ]
  },
  {
   "cell_type": "code",
   "execution_count": 29,
   "metadata": {
    "ExecuteTime": {
     "end_time": "2021-04-17T14:57:01.121051Z",
     "start_time": "2021-04-17T14:57:00.768124Z"
    }
   },
   "outputs": [
    {
     "data": {
      "image/png": "[encoded data removed]",
      "text/plain": [
       "<Figure size 864x360 with 2 Axes>"
      ]
     },
     "metadata": {
      "needs_background": "light"
     },
     "output_type": "display_data"
    }
   ],
   "source": [
    "accuracy = history.history['accuracy']\n",
    "val_accuracy = history.history['val_accuracy']\n",
    "loss = history.history['loss']\n",
    "val_loss = history.history['val_loss']\n",
    "x = range(1, len(accuracy) + 1)\n",
    "\n",
    "plt.figure(figsize=(12, 5))\n",
    "plt.subplot(1, 2, 1)\n",
    "plt.plot(x, accuracy, 'b', label='Train accuracy')\n",
    "plt.plot(x, val_accuracy, 'r', label='Validation accuracy')\n",
    "plt.title('Training and validation accuracy')\n",
    "plt.legend()\n",
    "plt.subplot(1, 2, 2)\n",
    "plt.plot(x, loss, 'b', label='Training loss')\n",
    "plt.plot(x, val_loss, 'r', label='Validation loss')\n",
    "plt.title('Training and validation loss')\n",
    "plt.legend()\n",
    "plt.savefig('results/cnn_graph.png')"
   ]
  },
  {
   "cell_type": "markdown",
   "metadata": {},
   "source": [
    "#### Model Architecture Evaluation (Train and Validation Data)"
   ]
  },
  {
   "cell_type": "code",
   "execution_count": 30,
   "metadata": {
    "ExecuteTime": {
     "end_time": "2021-04-17T14:57:02.884178Z",
     "start_time": "2021-04-17T14:57:02.100382Z"
    }
   },
   "outputs": [],
   "source": [
    "loss_train_best, accuracy_train_best = eval_model(train_padded, training_label_enc, model_cnn)\n",
    "loss_test_best, accuracy_test_best = eval_model(validation_padded, validation_label_enc, model_cnn)"
   ]
  },
  {
   "cell_type": "code",
   "execution_count": 31,
   "metadata": {
    "ExecuteTime": {
     "end_time": "2021-04-17T14:57:02.888277Z",
     "start_time": "2021-04-17T14:57:02.885674Z"
    }
   },
   "outputs": [
    {
     "name": "stdout",
     "output_type": "stream",
     "text": [
      "Train [0.9977272748947144][0.03196936473250389]\n",
      "Test [0.6495079398155212][1.1130433082580566]\n"
     ]
    }
   ],
   "source": [
    "print('Train [{}][{}]'.format(accuracy_train_best, loss_train_best))\n",
    "print('Test [{}][{}]'.format(accuracy_test_best, loss_test_best))"
   ]
  },
  {
   "cell_type": "markdown",
   "metadata": {},
   "source": [
    "### Model Prediction"
   ]
  },
  {
   "cell_type": "code",
   "execution_count": 32,
   "metadata": {
    "ExecuteTime": {
     "end_time": "2021-04-17T14:57:04.219157Z",
     "start_time": "2021-04-17T14:57:04.212672Z"
    }
   },
   "outputs": [],
   "source": [
    "def encode_predict(text):\n",
    "    text = tokenizer.texts_to_sequences(text)\n",
    "    text = pad_sequences(text, maxlen=max_length, padding='post')\n",
    "    return text"
   ]
  },
  {
   "cell_type": "code",
   "execution_count": 33,
   "metadata": {
    "ExecuteTime": {
     "end_time": "2021-04-17T14:57:06.133191Z",
     "start_time": "2021-04-17T14:57:05.252839Z"
    }
   },
   "outputs": [],
   "source": [
    "df_encoded = encode_predict(df['cleaned_tweets'])\n",
    "result_classes = np.argmax(model_cnn.predict(df_encoded), axis=-1)"
   ]
  },
  {
   "cell_type": "markdown",
   "metadata": {},
   "source": [
    "### Model Evaluation"
   ]
  },
  {
   "cell_type": "code",
   "execution_count": 34,
   "metadata": {
    "ExecuteTime": {
     "end_time": "2021-04-17T14:57:07.313999Z",
     "start_time": "2021-04-17T14:57:07.311320Z"
    }
   },
   "outputs": [],
   "source": [
    "from sklearn.metrics import accuracy_score, precision_score, recall_score, f1_score"
   ]
  },
  {
   "cell_type": "code",
   "execution_count": 35,
   "metadata": {
    "ExecuteTime": {
     "end_time": "2021-04-17T14:57:07.326158Z",
     "start_time": "2021-04-17T14:57:07.315561Z"
    }
   },
   "outputs": [
    {
     "data": {
      "text/plain": [
       "array([[   0, 1125],\n",
       "       [   1,  942],\n",
       "       [   2, 1052],\n",
       "       [   3,  635],\n",
       "       [   4,  647]])"
      ]
     },
     "execution_count": 35,
     "metadata": {},
     "output_type": "execute_result"
    }
   ],
   "source": [
    "(unique, counts) = np.unique(result_classes, return_counts=True)\n",
    "\n",
    "frequencies = np.asarray((unique, counts)).T\n",
    "frequencies"
   ]
  },
  {
   "cell_type": "code",
   "execution_count": 36,
   "metadata": {
    "ExecuteTime": {
     "end_time": "2021-04-17T14:57:07.335692Z",
     "start_time": "2021-04-17T14:57:07.328031Z"
    }
   },
   "outputs": [],
   "source": [
    "ground_truth = np.asarray(df['label_code'])"
   ]
  },
  {
   "cell_type": "code",
   "execution_count": 37,
   "metadata": {
    "ExecuteTime": {
     "end_time": "2021-04-17T14:57:07.356406Z",
     "start_time": "2021-04-17T14:57:07.337259Z"
    },
    "scrolled": true
   },
   "outputs": [
    {
     "name": "stdout",
     "output_type": "stream",
     "text": [
      "Accuracy: 0.893206\n",
      "Precision: 0.899324\n",
      "Recall: 0.897532\n",
      "F1 score: 0.898025\n"
     ]
    }
   ],
   "source": [
    "# accuracy: (tp + tn) / (p + n)\n",
    "accuracy = accuracy_score(ground_truth, result_classes)\n",
    "print('Accuracy: %f' % accuracy)\n",
    "# precision tp / (tp + fp)\n",
    "precision = precision_score(ground_truth, result_classes, average='macro')\n",
    "print('Precision: %f' % precision)\n",
    "# recall: tp / (tp + fn)\n",
    "recall = recall_score(ground_truth, result_classes, average='macro')\n",
    "print('Recall: %f' % recall)\n",
    "# f1: 2 tp / (2 tp + fp + fn)\n",
    "f1 = f1_score(ground_truth, result_classes, average='macro')\n",
    "print('F1 score: %f' % f1)"
   ]
  },
  {
   "cell_type": "code",
   "execution_count": null,
   "metadata": {},
   "outputs": [],
   "source": []
  }
 ],
 "metadata": {
  "kernelspec": {
   "display_name": "Python 3",
   "language": "python",
   "name": "python3"
  },
  "language_info": {
   "codemirror_mode": {
    "name": "ipython",
    "version": 3
   },
   "file_extension": ".py",
   "mimetype": "text/x-python",
   "name": "python",
   "nbconvert_exporter": "python",
   "pygments_lexer": "ipython3",
   "version": "3.8.5"
  },
  "toc": {
   "base_numbering": 1,
   "nav_menu": {},
   "number_sections": true,
   "sideBar": true,
   "skip_h1_title": false,
   "title_cell": "Table of Contents",
   "title_sidebar": "Contents",
   "toc_cell": false,
   "toc_position": {
    "height": "calc(100% - 180px)",
    "left": "10px",
    "top": "150px",
    "width": "384px"
   },
   "toc_section_display": true,
   "toc_window_display": true
  }
 },
 "nbformat": 4,
 "nbformat_minor": 4
}

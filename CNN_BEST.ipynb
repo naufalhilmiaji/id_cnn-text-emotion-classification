{
  "nbformat": 4,
  "nbformat_minor": 0,
  "metadata": {
    "kernelspec": {
      "display_name": "Python 3",
      "language": "python",
      "name": "python3"
    },
    "language_info": {
      "codemirror_mode": {
        "name": "ipython",
        "version": 3
      },
      "file_extension": ".py",
      "mimetype": "text/x-python",
      "name": "python",
      "nbconvert_exporter": "python",
      "pygments_lexer": "ipython3",
      "version": "3.8.5"
    },
    "toc": {
      "base_numbering": 1,
      "nav_menu": {},
      "number_sections": true,
      "sideBar": true,
      "skip_h1_title": false,
      "title_cell": "Table of Contents",
      "title_sidebar": "Contents",
      "toc_cell": false,
      "toc_position": {
        "height": "calc(100% - 180px)",
        "left": "10px",
        "top": "150px",
        "width": "384px"
      },
      "toc_section_display": true,
      "toc_window_display": true
    },
    "colab": {
      "name": "Final Task - 1301174314.ipynb",
      "provenance": [],
      "collapsed_sections": [],
      "toc_visible": true
    }
  },
  "cells": [
    {
      "cell_type": "markdown",
      "metadata": {
        "id": "Xe43we1hBtf4"
      },
      "source": [
        "# 1D Convolutional Neural Network"
      ]
    },
    {
      "cell_type": "code",
      "metadata": {
        "ExecuteTime": {
          "end_time": "2021-04-17T14:46:46.122138Z",
          "start_time": "2021-04-17T14:46:44.541704Z"
        },
        "id": "OnMUonwGBtf5"
      },
      "source": [
        "import numpy as np\n",
        "import pandas as pd\n",
        "from gensim.models import Word2Vec\n",
        "from collections import defaultdict\n",
        " \n",
        "import matplotlib.pyplot as plt\n",
        " \n",
        "import sklearn\n",
        "from sklearn.model_selection import train_test_split\n",
        " \n",
        "import tensorflow as tf\n",
        "from tensorflow.keras.models import load_model\n",
        "from tensorflow.keras.utils import plot_model\n",
        "from tensorflow.keras import models\n",
        "from tensorflow.keras import callbacks\n",
        "from tensorflow.keras import regularizers\n",
        "from tensorflow.keras.callbacks import ModelCheckpoint, EarlyStopping\n",
        "from tensorflow.keras.preprocessing.text import Tokenizer\n",
        "from tensorflow.keras.preprocessing.sequence import pad_sequences\n",
        "from tensorflow.keras.utils import to_categorical\n",
        "from tensorflow.keras.models import Sequential\n",
        "from tensorflow.keras.layers import Dense, Embedding, Activation, Dropout\n",
        "from tensorflow.keras.layers import Conv1D, GlobalMaxPooling1D"
      ],
      "execution_count": null,
      "outputs": []
    },
    {
      "cell_type": "code",
      "metadata": {
        "ExecuteTime": {
          "end_time": "2021-04-17T14:46:46.125521Z",
          "start_time": "2021-04-17T14:46:46.123137Z"
        },
        "colab": {
          "base_uri": "https://localhost:8080/"
        },
        "id": "tXUISmvNBtf6",
        "outputId": "26b53639-3e24-440a-8e15-8f55a8941b8c"
      },
      "source": [
        "print('Tensorflow version: {}'.format(tf.__version__))"
      ],
      "execution_count": null,
      "outputs": [
        {
          "output_type": "stream",
          "text": [
            "Tensorflow version: 2.4.1\n"
          ],
          "name": "stdout"
        }
      ]
    },
    {
      "cell_type": "markdown",
      "metadata": {
        "id": "O8dZ6A4JBtf7"
      },
      "source": [
        "## Load Data"
      ]
    },
    {
      "cell_type": "code",
      "metadata": {
        "ExecuteTime": {
          "end_time": "2021-04-17T14:46:54.511699Z",
          "start_time": "2021-04-17T14:46:54.469581Z"
        },
        "id": "QHKWh3QnBtf7"
      },
      "source": [
        "df = pd.read_csv('https://raw.githubusercontent.com/naufalhilmiaji/id_cnn-text-emotion-classification/main/datasets/df_preprocessed.csv')\n",
        "df.drop('Unnamed: 0', 1, inplace=True)"
      ],
      "execution_count": null,
      "outputs": []
    },
    {
      "cell_type": "code",
      "metadata": {
        "id": "kHbxrP8YpjOf"
      },
      "source": [
        "def remove_unnecesary_strings(data, word):\n",
        "    data = data.str.replace(' '+str(word), '')\n",
        "    data = data.str.replace(str(word)+' ', '')\n",
        "    data = data.str.replace(' '+str(word)+' ', '')\n",
        "    return data\n",
        "\n",
        "df['cleaned_tweets'] = remove_unnecesary_strings(df['cleaned_tweets'], 'username')\n",
        "df['cleaned_tweets'] = remove_unnecesary_strings(df['cleaned_tweets'], 'url')\n",
        "df['cleaned_tweets'] = remove_unnecesary_strings(df['cleaned_tweets'], 'sensitive-no')"
      ],
      "execution_count": null,
      "outputs": []
    },
    {
      "cell_type": "code",
      "metadata": {
        "ExecuteTime": {
          "end_time": "2021-04-17T14:46:57.443328Z",
          "start_time": "2021-04-17T14:46:57.424453Z"
        },
        "scrolled": true,
        "colab": {
          "base_uri": "https://localhost:8080/"
        },
        "id": "hHpH9O3OBtf8",
        "outputId": "8e703509-ab21-4fe7-91b7-b06d2ad1b7cd"
      },
      "source": [
        "df['label'].value_counts()"
      ],
      "execution_count": null,
      "outputs": [
        {
          "output_type": "execute_result",
          "data": {
            "text/plain": [
              "anger      1101\n",
              "happy      1017\n",
              "sadness     997\n",
              "fear        649\n",
              "love        637\n",
              "Name: label, dtype: int64"
            ]
          },
          "metadata": {
            "tags": []
          },
          "execution_count": 5
        }
      ]
    },
    {
      "cell_type": "code",
      "metadata": {
        "ExecuteTime": {
          "end_time": "2021-04-17T14:47:03.889730Z",
          "start_time": "2021-04-17T14:47:03.885818Z"
        },
        "colab": {
          "base_uri": "https://localhost:8080/"
        },
        "id": "qrAcgDprBtf8",
        "outputId": "1bab87ee-68a8-493a-c68a-ccdad8123106"
      },
      "source": [
        "label_and_code = dict(zip(df['label_code'].unique(), df['label'].unique()))\n",
        "label_and_code"
      ],
      "execution_count": null,
      "outputs": [
        {
          "output_type": "execute_result",
          "data": {
            "text/plain": [
              "{0: 'anger', 1: 'happy', 2: 'sadness', 3: 'love', 4: 'fear'}"
            ]
          },
          "metadata": {
            "tags": []
          },
          "execution_count": 6
        }
      ]
    },
    {
      "cell_type": "markdown",
      "metadata": {
        "id": "DRYMN_vtBtf9"
      },
      "source": [
        "## Define Needed Parameters"
      ]
    },
    {
      "cell_type": "code",
      "metadata": {
        "ExecuteTime": {
          "end_time": "2021-04-17T14:47:52.110354Z",
          "start_time": "2021-04-17T14:47:52.055719Z"
        },
        "id": "C1MQsoh7Btf9"
      },
      "source": [
        "sentences = [row.split() for row in df['cleaned_tweets']]\n",
        "word_freq = defaultdict(int)\n",
        "for sent in sentences:\n",
        "    for i in sent:\n",
        "        word_freq[i] += 1"
      ],
      "execution_count": null,
      "outputs": []
    },
    {
      "cell_type": "code",
      "metadata": {
        "colab": {
          "base_uri": "https://localhost:8080/"
        },
        "id": "pUZt6IA2n1ND",
        "outputId": "24be27b4-55a6-4756-c909-fa09145bb10d"
      },
      "source": [
        "len(word_freq)"
      ],
      "execution_count": null,
      "outputs": [
        {
          "output_type": "execute_result",
          "data": {
            "text/plain": [
              "14648"
            ]
          },
          "metadata": {
            "tags": []
          },
          "execution_count": 8
        }
      ]
    },
    {
      "cell_type": "code",
      "metadata": {
        "colab": {
          "base_uri": "https://localhost:8080/"
        },
        "id": "oy0HZfOKoGW-",
        "outputId": "3e4cb0c4-8e34-4fef-bb8f-e0c32a5c5276"
      },
      "source": [
        "sorted(word_freq, key=word_freq.get, reverse=True)[:10]"
      ],
      "execution_count": null,
      "outputs": [
        {
          "output_type": "execute_result",
          "data": {
            "text/plain": [
              "['dan', 'yg', 'yang', 'di', 'aku', 'ini', 'itu', 'ada', 'sama', 'ya']"
            ]
          },
          "metadata": {
            "tags": []
          },
          "execution_count": 9
        }
      ]
    },
    {
      "cell_type": "code",
      "metadata": {
        "ExecuteTime": {
          "end_time": "2021-04-17T14:49:30.356024Z",
          "start_time": "2021-04-17T14:49:30.346284Z"
        },
        "scrolled": false,
        "colab": {
          "base_uri": "https://localhost:8080/"
        },
        "id": "WEt_auFaBtf9",
        "outputId": "88d7fe42-4888-4d91-b59f-c6f6c6a9a8c5"
      },
      "source": [
        "print('The Amount of Vocabularies: {}'.format(len(word_freq)))\n",
        "print('Maximum Tweet Length: {}'.format(max(df['tweets_length'])))"
      ],
      "execution_count": null,
      "outputs": [
        {
          "output_type": "stream",
          "text": [
            "The Amount of Vocabularies: 14648\n",
            "Maximum Tweet Length: 83\n"
          ],
          "name": "stdout"
        }
      ]
    },
    {
      "cell_type": "code",
      "metadata": {
        "id": "bVCdhFVopzG1"
      },
      "source": [
        "# decreased_vocab = sorted(word_freq, key=word_freq.get, reverse=True)[:2000]"
      ],
      "execution_count": null,
      "outputs": []
    },
    {
      "cell_type": "markdown",
      "metadata": {
        "id": "Vwo9k0Y3Btf9"
      },
      "source": [
        "__vocab_size__: using 14650 vocabularies for input dimension. <br>\n",
        "__embedding_dim__: 300 for output dimension. <br>\n",
        "__max_length__: The maximum length of tweets is 83, so we take 83 for the maximum input length.<br>"
      ]
    },
    {
      "cell_type": "code",
      "metadata": {
        "colab": {
          "base_uri": "https://localhost:8080/"
        },
        "id": "kFNvP5SYra5r",
        "outputId": "d4c01a48-802f-41a8-8dc6-458a121de0d8"
      },
      "source": [
        "temp = []\n",
        "for i in range(len(df)):\n",
        "  temp.append(df['tweets_length'][i])\n",
        "\n",
        "sum(temp)/len(df)"
      ],
      "execution_count": null,
      "outputs": [
        {
          "output_type": "execute_result",
          "data": {
            "text/plain": [
              "28.898432174505793"
            ]
          },
          "metadata": {
            "tags": []
          },
          "execution_count": 12
        }
      ]
    },
    {
      "cell_type": "code",
      "metadata": {
        "ExecuteTime": {
          "end_time": "2021-04-17T14:53:07.442003Z",
          "start_time": "2021-04-17T14:53:07.439921Z"
        },
        "id": "kiyJGMmBBtf-"
      },
      "source": [
        "vocab_size = len(word_freq)\n",
        "embedding_dim = 128\n",
        "max_length = max(df['tweets_length'])"
      ],
      "execution_count": null,
      "outputs": []
    },
    {
      "cell_type": "markdown",
      "metadata": {
        "id": "bBIlF3woBtf-"
      },
      "source": [
        "### Data Split"
      ]
    },
    {
      "cell_type": "code",
      "metadata": {
        "ExecuteTime": {
          "end_time": "2021-04-17T14:54:31.075303Z",
          "start_time": "2021-04-17T14:54:31.068776Z"
        },
        "colab": {
          "base_uri": "https://localhost:8080/"
        },
        "id": "kAy_81DXBtf-",
        "outputId": "ba09e40a-3fc8-4ad1-86ee-a5e4a60ef5c5"
      },
      "source": [
        "train_set, validation_set = train_test_split(df, train_size=0.7, random_state=42)\n",
        "print('Training Set: {} rows\\nValidation Set: {} rows'.format(len(train_set), len(validation_set)))"
      ],
      "execution_count": null,
      "outputs": [
        {
          "output_type": "stream",
          "text": [
            "Training Set: 3080 rows\n",
            "Validation Set: 1321 rows\n"
          ],
          "name": "stdout"
        }
      ]
    },
    {
      "cell_type": "markdown",
      "metadata": {
        "id": "nYx09bzjBtf-"
      },
      "source": [
        "### Word Tokenizer"
      ]
    },
    {
      "cell_type": "code",
      "metadata": {
        "ExecuteTime": {
          "end_time": "2021-04-17T14:54:42.811118Z",
          "start_time": "2021-04-17T14:54:42.712919Z"
        },
        "id": "IeDJd5nNBtf_"
      },
      "source": [
        "# tokenize tweets\n",
        "tokenizer = Tokenizer(num_words = vocab_size)\n",
        "tokenizer.fit_on_texts(train_set[\"cleaned_tweets\"])\n",
        "word_index = tokenizer.word_index"
      ],
      "execution_count": null,
      "outputs": []
    },
    {
      "cell_type": "markdown",
      "metadata": {
        "ExecuteTime": {
          "end_time": "2021-01-12T10:29:20.790075Z",
          "start_time": "2021-01-12T10:29:20.787784Z"
        },
        "id": "dO5i8uj6Btf_"
      },
      "source": [
        "### Tweets to Sequences\n",
        "Transform text from tweets to Tensorflow's sequences."
      ]
    },
    {
      "cell_type": "code",
      "metadata": {
        "ExecuteTime": {
          "end_time": "2021-04-17T14:54:46.477615Z",
          "start_time": "2021-04-17T14:54:46.450351Z"
        },
        "id": "NkFdkHESBtf_"
      },
      "source": [
        "def encode(text):\n",
        "    return tokenizer.texts_to_sequences(text)\n",
        " \n",
        "reverse_word_map = dict(map(reversed, tokenizer.word_index.items()))\n",
        " \n",
        "def decode(list_of_indices):\n",
        "    # Looking up words in dictionary\n",
        "    words = [reverse_word_map.get(letter) for letter in list_of_indices]\n",
        "    return words"
      ],
      "execution_count": null,
      "outputs": []
    },
    {
      "cell_type": "markdown",
      "metadata": {
        "id": "dqGHQtB6Btf_"
      },
      "source": [
        "#### Train Data"
      ]
    },
    {
      "cell_type": "code",
      "metadata": {
        "ExecuteTime": {
          "end_time": "2021-04-17T14:54:50.880490Z",
          "start_time": "2021-04-17T14:54:50.775850Z"
        },
        "id": "0mEuIvTEBtf_"
      },
      "source": [
        "train_sequences = encode(train_set[\"cleaned_tweets\"])\n",
        "train_padded = pad_sequences(train_sequences, maxlen=max_length, padding='post')"
      ],
      "execution_count": null,
      "outputs": []
    },
    {
      "cell_type": "code",
      "metadata": {
        "ExecuteTime": {
          "end_time": "2021-04-17T14:54:53.176617Z",
          "start_time": "2021-04-17T14:54:53.158873Z"
        },
        "colab": {
          "base_uri": "https://localhost:8080/"
        },
        "id": "8vkrjEiiBtgA",
        "outputId": "f743aa9d-2e63-432f-d8a6-02996c149978"
      },
      "source": [
        "print('before pad_sequences: ',len(train_sequences[0]))\n",
        "print('after pad_sequences: ',len(train_padded[0]))\n",
        " \n",
        "print('before pad_sequences: ',len(train_sequences[1]))\n",
        "print('after pad_sequences: ',len(train_padded[1]))\n",
        " \n",
        "print('before pad_sequences: ',len(train_sequences[10]))\n",
        "print('after pad_sequences: ',len(train_padded[10]))"
      ],
      "execution_count": null,
      "outputs": [
        {
          "output_type": "stream",
          "text": [
            "before pad_sequences:  19\n",
            "after pad_sequences:  83\n",
            "before pad_sequences:  16\n",
            "after pad_sequences:  83\n",
            "before pad_sequences:  38\n",
            "after pad_sequences:  83\n"
          ],
          "name": "stdout"
        }
      ]
    },
    {
      "cell_type": "code",
      "metadata": {
        "ExecuteTime": {
          "end_time": "2021-04-17T14:55:00.325371Z",
          "start_time": "2021-04-17T14:55:00.318609Z"
        },
        "colab": {
          "base_uri": "https://localhost:8080/"
        },
        "id": "l0SZWaTABtgA",
        "outputId": "f43372a1-f7bf-4d00-ae40-7e7e246ca5a7"
      },
      "source": [
        "print(train_padded.shape)"
      ],
      "execution_count": null,
      "outputs": [
        {
          "output_type": "stream",
          "text": [
            "(3080, 83)\n"
          ],
          "name": "stdout"
        }
      ]
    },
    {
      "cell_type": "markdown",
      "metadata": {
        "id": "74NwKYYiBtgA"
      },
      "source": [
        "#### Test"
      ]
    },
    {
      "cell_type": "code",
      "metadata": {
        "ExecuteTime": {
          "end_time": "2021-04-17T14:55:03.028311Z",
          "start_time": "2021-04-17T14:55:02.999368Z"
        },
        "colab": {
          "base_uri": "https://localhost:8080/"
        },
        "id": "uKCyRg0RBtgA",
        "outputId": "fda43198-0e80-4ddc-d628-6022ab8685ea"
      },
      "source": [
        "validation_sequences = encode(validation_set['cleaned_tweets'])\n",
        "validation_padded = pad_sequences(validation_sequences, maxlen=max_length, padding='post')\n",
        " \n",
        "print(validation_padded.shape)"
      ],
      "execution_count": null,
      "outputs": [
        {
          "output_type": "stream",
          "text": [
            "(1321, 83)\n"
          ],
          "name": "stdout"
        }
      ]
    },
    {
      "cell_type": "markdown",
      "metadata": {
        "id": "SU3tn71dBtgB"
      },
      "source": [
        "### Encode Labels to Categorical"
      ]
    },
    {
      "cell_type": "code",
      "metadata": {
        "ExecuteTime": {
          "end_time": "2021-04-17T14:55:08.938635Z",
          "start_time": "2021-04-17T14:55:08.933499Z"
        },
        "id": "a0oewMQvBtgB"
      },
      "source": [
        "training_label_enc = to_categorical(train_set['label_code'])\n",
        "validation_label_enc = to_categorical(validation_set['label_code'])"
      ],
      "execution_count": null,
      "outputs": []
    },
    {
      "cell_type": "code",
      "metadata": {
        "ExecuteTime": {
          "end_time": "2021-04-17T14:55:09.189783Z",
          "start_time": "2021-04-17T14:55:09.182586Z"
        },
        "scrolled": true,
        "colab": {
          "base_uri": "https://localhost:8080/"
        },
        "id": "kDSlyT2IBtgB",
        "outputId": "21d8bc1b-2d0f-4430-ec00-759b0acc7dc9"
      },
      "source": [
        "train_padded.shape, validation_padded.shape, training_label_enc.shape, validation_label_enc.shape"
      ],
      "execution_count": null,
      "outputs": [
        {
          "output_type": "execute_result",
          "data": {
            "text/plain": [
              "((3080, 83), (1321, 83), (3080, 5), (1321, 5))"
            ]
          },
          "metadata": {
            "tags": []
          },
          "execution_count": 22
        }
      ]
    },
    {
      "cell_type": "markdown",
      "metadata": {
        "id": "-xOneztmBtgB"
      },
      "source": [
        "## 1D CNN Architecture\n",
        "Creating model for 1D Convolutional Neural Network"
      ]
    },
    {
      "cell_type": "code",
      "metadata": {
        "ExecuteTime": {
          "end_time": "2021-04-17T14:55:52.621774Z",
          "start_time": "2021-04-17T14:55:52.614984Z"
        },
        "id": "69gI1Z9CBtgB"
      },
      "source": [
        "def eval_model(x, y, model):\n",
        "    loss, accuracy = model.evaluate(x, y, verbose=False)\n",
        "    return loss, accuracy"
      ],
      "execution_count": null,
      "outputs": []
    },
    {
      "cell_type": "code",
      "metadata": {
        "ExecuteTime": {
          "end_time": "2021-04-17T14:56:00.169221Z",
          "start_time": "2021-04-17T14:56:00.157846Z"
        },
        "id": "JPMn6t_TBtgC"
      },
      "source": [
        "def create_model(vocab, dim, length): # BEST MODEL\n",
        "    model = Sequential()\n",
        "    model.add(Embedding(vocab+1, dim, input_length=length))\n",
        "    model.add(Conv1D(128, 5, activation='relu',\n",
        "                     kernel_regularizer=regularizers.l2(0.0001),\n",
        "                     bias_regularizer=regularizers.l2(0.0001)))\n",
        "    model.add(GlobalMaxPooling1D())\n",
        "    model.add(Dense(100, activation='relu',\n",
        "                     kernel_regularizer=regularizers.l2(0.0001),\n",
        "                     bias_regularizer=regularizers.l2(0.0001)))\n",
        "    model.add(Dropout(0.5))\n",
        "    model.add(Dense(5, activation='softmax'))               \n",
        "    return model"
      ],
      "execution_count": null,
      "outputs": []
    },
    {
      "cell_type": "code",
      "metadata": {
        "ExecuteTime": {
          "end_time": "2021-04-17T14:56:00.702082Z",
          "start_time": "2021-04-17T14:56:00.644176Z"
        },
        "scrolled": false,
        "colab": {
          "base_uri": "https://localhost:8080/"
        },
        "id": "fsKDO6JBBtgC",
        "outputId": "e5488393-348f-4e9e-8f49-a101e228ca46"
      },
      "source": [
        "model_cnn = create_model(vocab_size, embedding_dim, max_length)\n",
        "model_cnn.summary()"
      ],
      "execution_count": null,
      "outputs": [
        {
          "output_type": "stream",
          "text": [
            "Model: \"sequential\"\n",
            "_________________________________________________________________\n",
            "Layer (type)                 Output Shape              Param #   \n",
            "=================================================================\n",
            "embedding (Embedding)        (None, 83, 128)           1875072   \n",
            "_________________________________________________________________\n",
            "conv1d (Conv1D)              (None, 79, 128)           82048     \n",
            "_________________________________________________________________\n",
            "global_max_pooling1d (Global (None, 128)               0         \n",
            "_________________________________________________________________\n",
            "dense (Dense)                (None, 100)               12900     \n",
            "_________________________________________________________________\n",
            "dropout (Dropout)            (None, 100)               0         \n",
            "_________________________________________________________________\n",
            "dense_1 (Dense)              (None, 5)                 505       \n",
            "=================================================================\n",
            "Total params: 1,970,525\n",
            "Trainable params: 1,970,525\n",
            "Non-trainable params: 0\n",
            "_________________________________________________________________\n"
          ],
          "name": "stdout"
        }
      ]
    },
    {
      "cell_type": "markdown",
      "metadata": {
        "id": "0IaokkIQBtgC"
      },
      "source": [
        "### Model Visualization"
      ]
    },
    {
      "cell_type": "code",
      "metadata": {
        "ExecuteTime": {
          "end_time": "2021-04-17T14:56:24.114140Z",
          "start_time": "2021-04-17T14:56:23.983754Z"
        },
        "id": "OfGnwDB4BtgC",
        "colab": {
          "base_uri": "https://localhost:8080/",
          "height": 754
        },
        "outputId": "a0b9077c-fd07-4a9c-cbcb-df0d5e36efec"
      },
      "source": [
        "plot_model(model_cnn, to_file='visualize_model.png', show_shapes=True, show_layer_names=True)"
      ],
      "execution_count": null,
      "outputs": [
        {
          "output_type": "execute_result",
          "data": {
            "image/png": "[encoded data removed]",
            "text/plain": [
              "<IPython.core.display.Image object>"
            ]
          },
          "metadata": {
            "tags": []
          },
          "execution_count": 26
        }
      ]
    },
    {
      "cell_type": "markdown",
      "metadata": {
        "id": "QIK0WbHcBtgC"
      },
      "source": [
        "### Model Training"
      ]
    },
    {
      "cell_type": "code",
      "metadata": {
        "ExecuteTime": {
          "end_time": "2021-04-17T14:56:50.825772Z",
          "start_time": "2021-04-17T14:56:36.257603Z"
        },
        "scrolled": false,
        "colab": {
          "base_uri": "https://localhost:8080/"
        },
        "id": "vkmxCbsrBtgD",
        "outputId": "1fe372ce-171b-43dd-9d7f-d8dade911810"
      },
      "source": [
        "adam = tf.optimizers.Adam(learning_rate=0.0003)\n",
        "model_cnn.compile(optimizer=adam, loss='categorical_crossentropy', metrics=['accuracy'])\n",
        "es_callbacks = [EarlyStopping(monitor='val_loss'),\n",
        "             ModelCheckpoint(filepath='models/model_checkpoint_cnn.h5', \n",
        "                             monitor='val_accuracy', save_best_only=True, \n",
        "                             mode='max')]\n",
        " \n",
        " \n",
        "history = model_cnn.fit(train_padded,\n",
        "          training_label_enc,\n",
        "          epochs=100,\n",
        "          validation_data=(validation_padded, validation_label_enc),\n",
        "          callbacks=[es_callbacks])"
      ],
      "execution_count": null,
      "outputs": [
        {
          "output_type": "stream",
          "text": [
            "Epoch 1/100\n",
            "97/97 [==============================] - 8s 75ms/step - loss: 1.6316 - accuracy: 0.2166 - val_loss: 1.5976 - val_accuracy: 0.2755\n",
            "Epoch 2/100\n",
            "97/97 [==============================] - 6s 67ms/step - loss: 1.5845 - accuracy: 0.3061 - val_loss: 1.5692 - val_accuracy: 0.3497\n",
            "Epoch 3/100\n",
            "97/97 [==============================] - 6s 67ms/step - loss: 1.5015 - accuracy: 0.4801 - val_loss: 1.4116 - val_accuracy: 0.5231\n",
            "Epoch 4/100\n",
            "97/97 [==============================] - 7s 67ms/step - loss: 1.2509 - accuracy: 0.6541 - val_loss: 1.2226 - val_accuracy: 0.5889\n",
            "Epoch 5/100\n",
            "97/97 [==============================] - 6s 67ms/step - loss: 0.9608 - accuracy: 0.7612 - val_loss: 1.1075 - val_accuracy: 0.6207\n",
            "Epoch 6/100\n",
            "97/97 [==============================] - 6s 67ms/step - loss: 0.6595 - accuracy: 0.8568 - val_loss: 1.0273 - val_accuracy: 0.6412\n",
            "Epoch 7/100\n",
            "97/97 [==============================] - 6s 67ms/step - loss: 0.4448 - accuracy: 0.9105 - val_loss: 0.9892 - val_accuracy: 0.6480\n",
            "Epoch 8/100\n",
            "97/97 [==============================] - 6s 67ms/step - loss: 0.2858 - accuracy: 0.9524 - val_loss: 0.9795 - val_accuracy: 0.6616\n",
            "Epoch 9/100\n",
            "97/97 [==============================] - 7s 68ms/step - loss: 0.1884 - accuracy: 0.9810 - val_loss: 0.9903 - val_accuracy: 0.6586\n"
          ],
          "name": "stdout"
        }
      ]
    },
    {
      "cell_type": "code",
      "metadata": {
        "ExecuteTime": {
          "end_time": "2021-04-17T14:56:53.138454Z",
          "start_time": "2021-04-17T14:56:53.062656Z"
        },
        "id": "SxcPdA7ABtgD"
      },
      "source": [
        "# model_cnn.save('model_cnn.h5')"
      ],
      "execution_count": null,
      "outputs": []
    },
    {
      "cell_type": "markdown",
      "metadata": {
        "id": "Unttf90KBtgD"
      },
      "source": [
        "### Model Evaluation"
      ]
    },
    {
      "cell_type": "markdown",
      "metadata": {
        "id": "MBt6TWAtBtgD"
      },
      "source": [
        "#### Accuracy and Loss Plot"
      ]
    },
    {
      "cell_type": "code",
      "metadata": {
        "colab": {
          "base_uri": "https://localhost:8080/",
          "height": 370
        },
        "id": "2FdDzdDT93Fi",
        "outputId": "d0cd5384-147c-42f9-a83f-176aa296d87c"
      },
      "source": [
        "accuracy = history.history['accuracy']\n",
        "val_accuracy = history.history['val_accuracy']\n",
        "loss = history.history['loss']\n",
        "val_loss = history.history['val_loss']\n",
        "x = range(1, len(accuracy) + 1)\n",
        "\n",
        "plt.figure(figsize=(12, 5))\n",
        "plt.subplot(1, 2, 1)\n",
        "plt.plot(x, accuracy, 'b', label='Train accuracy')\n",
        "plt.plot(x, val_accuracy, 'r', label='Validation accuracy')\n",
        "plt.title('Training and validation accuracy')\n",
        "plt.xlabel('epochs')\n",
        "plt.ylabel('accuracy')\n",
        "plt.legend()\n",
        "plt.subplot(1, 2, 2)\n",
        "plt.plot(x, loss, 'b', label='Training loss')\n",
        "plt.plot(x, val_loss, 'r', label='Validation loss')\n",
        "plt.title('Training and validation loss')\n",
        "plt.xlabel('epochs')\n",
        "plt.ylabel('loss')\n",
        "plt.legend()\n",
        "plt.suptitle('Model Evaluation', fontsize=14)\n",
        "plt.savefig('cnn_graph.png')"
      ],
      "execution_count": null,
      "outputs": [
        {
          "output_type": "display_data",
          "data": {
            "image/png": "[encoded data removed]",
            "text/plain": [
              "<Figure size 864x360 with 2 Axes>"
            ]
          },
          "metadata": {
            "tags": [],
            "needs_background": "light"
          }
        }
      ]
    },
    {
      "cell_type": "markdown",
      "metadata": {
        "id": "42rbOYaQBtgE"
      },
      "source": [
        "#### Model Architecture Evaluation (Train and Validation Data)"
      ]
    },
    {
      "cell_type": "code",
      "metadata": {
        "ExecuteTime": {
          "end_time": "2021-04-17T14:57:02.884178Z",
          "start_time": "2021-04-17T14:57:02.100382Z"
        },
        "id": "vu-m9jG3BtgE"
      },
      "source": [
        "loss_train_best, accuracy_train_best = eval_model(train_padded, training_label_enc, model_cnn)\n",
        "loss_test_best, accuracy_test_best = eval_model(validation_padded, validation_label_enc, model_cnn)"
      ],
      "execution_count": null,
      "outputs": []
    },
    {
      "cell_type": "code",
      "metadata": {
        "ExecuteTime": {
          "end_time": "2021-04-17T14:57:02.888277Z",
          "start_time": "2021-04-17T14:57:02.885674Z"
        },
        "colab": {
          "base_uri": "https://localhost:8080/"
        },
        "id": "FOotkfY4BtgE",
        "outputId": "34adb891-6346-4b6d-c2e8-e580103b6295"
      },
      "source": [
        "print('Train [{}][{}]'.format(accuracy_train_best, loss_train_best))\n",
        "print('Test [{}][{}]'.format(accuracy_test_best, loss_test_best))"
      ],
      "execution_count": null,
      "outputs": [
        {
          "output_type": "stream",
          "text": [
            "Train [0.9948052167892456][0.11007221043109894]\n",
            "Test [0.6585919857025146][0.9903292059898376]\n"
          ],
          "name": "stdout"
        }
      ]
    },
    {
      "cell_type": "code",
      "metadata": {
        "ExecuteTime": {
          "end_time": "2021-04-17T14:57:04.219157Z",
          "start_time": "2021-04-17T14:57:04.212672Z"
        },
        "id": "7H5qoazMBtgE"
      },
      "source": [
        "def encode_predict(text):\n",
        "    text = tokenizer.texts_to_sequences(text)\n",
        "    text = pad_sequences(text, maxlen=max_length, padding='post')\n",
        "    return text"
      ],
      "execution_count": null,
      "outputs": []
    },
    {
      "cell_type": "code",
      "metadata": {
        "ExecuteTime": {
          "end_time": "2021-04-17T14:57:06.133191Z",
          "start_time": "2021-04-17T14:57:05.252839Z"
        },
        "id": "puw8PHDpBtgF"
      },
      "source": [
        "df_encoded = encode_predict(df['cleaned_tweets'])\n",
        "result_classes = np.argmax(model_cnn.predict(df_encoded), axis=-1)"
      ],
      "execution_count": null,
      "outputs": []
    },
    {
      "cell_type": "markdown",
      "metadata": {
        "id": "UNJbxpUaBtgF"
      },
      "source": [
        "### Model Evaluation"
      ]
    },
    {
      "cell_type": "code",
      "metadata": {
        "ExecuteTime": {
          "end_time": "2021-04-17T14:57:07.313999Z",
          "start_time": "2021-04-17T14:57:07.311320Z"
        },
        "id": "quHvdj-uBtgF"
      },
      "source": [
        "from sklearn.metrics import accuracy_score, precision_score, recall_score, f1_score, classification_report, confusion_matrix"
      ],
      "execution_count": null,
      "outputs": []
    },
    {
      "cell_type": "code",
      "metadata": {
        "ExecuteTime": {
          "end_time": "2021-04-17T14:57:07.326158Z",
          "start_time": "2021-04-17T14:57:07.315561Z"
        },
        "colab": {
          "base_uri": "https://localhost:8080/"
        },
        "id": "JUgUA83hBtgF",
        "outputId": "5c945030-e9c0-431b-bb80-4a63e8935ff8"
      },
      "source": [
        "(unique, counts) = np.unique(result_classes, return_counts=True)\n",
        " \n",
        "frequencies = np.asarray((unique, counts)).T\n",
        "frequencies"
      ],
      "execution_count": null,
      "outputs": [
        {
          "output_type": "execute_result",
          "data": {
            "text/plain": [
              "array([[   0, 1108],\n",
              "       [   1, 1018],\n",
              "       [   2, 1003],\n",
              "       [   3,  657],\n",
              "       [   4,  615]])"
            ]
          },
          "metadata": {
            "tags": []
          },
          "execution_count": 34
        }
      ]
    },
    {
      "cell_type": "code",
      "metadata": {
        "ExecuteTime": {
          "end_time": "2021-04-17T14:57:07.335692Z",
          "start_time": "2021-04-17T14:57:07.328031Z"
        },
        "id": "1qjUVYJKBtgF"
      },
      "source": [
        "ground_truth = np.asarray(df['label_code'])"
      ],
      "execution_count": null,
      "outputs": []
    },
    {
      "cell_type": "code",
      "metadata": {
        "colab": {
          "base_uri": "https://localhost:8080/"
        },
        "id": "MZbXqj6nBtgG",
        "outputId": "78bbb7be-88b6-4ad7-cc51-115bba318bb2"
      },
      "source": [
        "print(classification_report(ground_truth, result_classes))"
      ],
      "execution_count": null,
      "outputs": [
        {
          "output_type": "stream",
          "text": [
            "              precision    recall  f1-score   support\n",
            "\n",
            "           0       0.90      0.90      0.90      1101\n",
            "           1       0.89      0.89      0.89      1017\n",
            "           2       0.86      0.86      0.86       997\n",
            "           3       0.90      0.93      0.92       637\n",
            "           4       0.95      0.90      0.93       649\n",
            "\n",
            "    accuracy                           0.89      4401\n",
            "   macro avg       0.90      0.90      0.90      4401\n",
            "weighted avg       0.89      0.89      0.89      4401\n",
            "\n"
          ],
          "name": "stdout"
        }
      ]
    },
    {
      "cell_type": "code",
      "metadata": {
        "id": "0fdg210E-oRK",
        "colab": {
          "base_uri": "https://localhost:8080/"
        },
        "outputId": "609a550f-257d-400b-eae1-92ef293b02be"
      },
      "source": [
        "label_and_code"
      ],
      "execution_count": null,
      "outputs": [
        {
          "output_type": "execute_result",
          "data": {
            "text/plain": [
              "{0: 'anger', 1: 'happy', 2: 'sadness', 3: 'love', 4: 'fear'}"
            ]
          },
          "metadata": {
            "tags": []
          },
          "execution_count": 46
        }
      ]
    },
    {
      "cell_type": "code",
      "metadata": {
        "id": "k-hTYxOFqqcA"
      },
      "source": [
        "import seaborn as sns\n",
        " \n",
        "colormap = sns.color_palette('Blues')"
      ],
      "execution_count": null,
      "outputs": []
    },
    {
      "cell_type": "code",
      "metadata": {
        "id": "p5VCRgysu1KR"
      },
      "source": [
        "xtick = []\n",
        "for i in range(len(result_classes)):\n",
        "  if result_classes[i] == 0:\n",
        "    xtick.append('anger')\n",
        "  elif result_classes[i] == 1:\n",
        "    xtick.append('happy')\n",
        "  elif result_classes[i] == 2:\n",
        "    xtick.append('sadness')\n",
        "  elif result_classes[i] == 3:\n",
        "    xtick.append('love')\n",
        "  else:\n",
        "    xtick.append('fear')"
      ],
      "execution_count": null,
      "outputs": []
    },
    {
      "cell_type": "code",
      "metadata": {
        "colab": {
          "base_uri": "https://localhost:8080/"
        },
        "id": "z3MiE92Ny-uQ",
        "outputId": "45a9cbb2-e267-4ca2-8a30-365b7202c12c"
      },
      "source": [
        "classes = list(label_and_code.values())\n",
        "classes"
      ],
      "execution_count": null,
      "outputs": [
        {
          "output_type": "execute_result",
          "data": {
            "text/plain": [
              "['anger', 'happy', 'sadness', 'love', 'fear']"
            ]
          },
          "metadata": {
            "tags": []
          },
          "execution_count": 49
        }
      ]
    },
    {
      "cell_type": "code",
      "metadata": {
        "colab": {
          "base_uri": "https://localhost:8080/"
        },
        "id": "Rik8W8duRJyH",
        "outputId": "5f4441c5-305b-47dd-87ab-f0e4377c2d2f"
      },
      "source": [
        "confusion_matrix(ground_truth, result_classes)"
      ],
      "execution_count": null,
      "outputs": [
        {
          "output_type": "execute_result",
          "data": {
            "text/plain": [
              "array([[996,  40,  43,   8,  14],\n",
              "       [ 33, 901,  58,  18,   7],\n",
              "       [ 51,  50, 858,  31,   7],\n",
              "       [  5,  17,  19, 594,   2],\n",
              "       [ 23,  10,  25,   6, 585]])"
            ]
          },
          "metadata": {
            "tags": []
          },
          "execution_count": 50
        }
      ]
    },
    {
      "cell_type": "code",
      "metadata": {
        "colab": {
          "base_uri": "https://localhost:8080/",
          "height": 404
        },
        "id": "meso5scqPNSM",
        "outputId": "aaf46b17-fb51-4d37-bfd1-b524919d8df4"
      },
      "source": [
        "plt.figure(figsize=(8,6))\n",
        "ax = sns.heatmap(confusion_matrix(ground_truth, result_classes), annot = True, cmap=colormap, fmt='g')\n",
        "ax.set_title('Confusion Matrix')\n",
        "ax.set_xticklabels(classes)\n",
        "ax.set_yticklabels(classes)\n",
        "ax.set(xlabel='Predicted Classes', ylabel='Actual Classes')\n",
        "ax.figure.savefig('confusion_matrix.png')"
      ],
      "execution_count": null,
      "outputs": [
        {
          "output_type": "display_data",
          "data": {
            "image/png": "[encoded data removed]",
            "text/plain": [
              "<Figure size 576x432 with 2 Axes>"
            ]
          },
          "metadata": {
            "tags": [],
            "needs_background": "light"
          }
        }
      ]
    },
    {
      "cell_type": "code",
      "metadata": {
        "id": "bfWu0c3zse61",
        "colab": {
          "base_uri": "https://localhost:8080/",
          "height": 419
        },
        "outputId": "476c6958-4a10-4d27-cb31-d729c4177733"
      },
      "source": [
        "df_result = pd.DataFrame(list(zip(df['cleaned_tweets'], df['label_code'], result_classes)),\n",
        "               columns =['tweets', 'class', 'predicted'])\n",
        "df_result"
      ],
      "execution_count": null,
      "outputs": [
        {
          "output_type": "execute_result",
          "data": {
            "text/html": [
              "<div>\n",
              "<style scoped>\n",
              "    .dataframe tbody tr th:only-of-type {\n",
              "        vertical-align: middle;\n",
              "    }\n",
              "\n",
              "    .dataframe tbody tr th {\n",
              "        vertical-align: top;\n",
              "    }\n",
              "\n",
              "    .dataframe thead th {\n",
              "        text-align: right;\n",
              "    }\n",
              "</style>\n",
              "<table border=\"1\" class=\"dataframe\">\n",
              "  <thead>\n",
              "    <tr style=\"text-align: right;\">\n",
              "      <th></th>\n",
              "      <th>tweets</th>\n",
              "      <th>class</th>\n",
              "      <th>predicted</th>\n",
              "    </tr>\n",
              "  </thead>\n",
              "  <tbody>\n",
              "    <tr>\n",
              "      <th>0</th>\n",
              "      <td>soal jln jatibaru polisi tdk bs gertak gubernu...</td>\n",
              "      <td>0</td>\n",
              "      <td>0</td>\n",
              "    </tr>\n",
              "    <tr>\n",
              "      <th>1</th>\n",
              "      <td>sama cewe lho kayak harus bisa lebih rasain la...</td>\n",
              "      <td>0</td>\n",
              "      <td>0</td>\n",
              "    </tr>\n",
              "    <tr>\n",
              "      <th>2</th>\n",
              "      <td>kepingin gudeg mbarek bu hj amad foto dari goo...</td>\n",
              "      <td>1</td>\n",
              "      <td>1</td>\n",
              "    </tr>\n",
              "    <tr>\n",
              "      <th>3</th>\n",
              "      <td>jln jatibaru bagi dari wilayah tn abang atur w...</td>\n",
              "      <td>0</td>\n",
              "      <td>0</td>\n",
              "    </tr>\n",
              "    <tr>\n",
              "      <th>4</th>\n",
              "      <td>sharing alam aja kemarin jam 18 00 batalin tik...</td>\n",
              "      <td>1</td>\n",
              "      <td>1</td>\n",
              "    </tr>\n",
              "    <tr>\n",
              "      <th>...</th>\n",
              "      <td>...</td>\n",
              "      <td>...</td>\n",
              "      <td>...</td>\n",
              "    </tr>\n",
              "    <tr>\n",
              "      <th>4396</th>\n",
              "      <td>tahu kamu bahwa saat itu papa mejam mata dan t...</td>\n",
              "      <td>3</td>\n",
              "      <td>3</td>\n",
              "    </tr>\n",
              "    <tr>\n",
              "      <th>4397</th>\n",
              "      <td>sulit tetap calon wapresnya jokowi di pilpres ...</td>\n",
              "      <td>4</td>\n",
              "      <td>4</td>\n",
              "    </tr>\n",
              "    <tr>\n",
              "      <th>4398</th>\n",
              "      <td>5 masa depan nggak jelas lha iya gimana mau je...</td>\n",
              "      <td>0</td>\n",
              "      <td>0</td>\n",
              "    </tr>\n",
              "    <tr>\n",
              "      <th>4399</th>\n",
              "      <td>dulu beneran ada mahasiswa teknik ui nembak pa...</td>\n",
              "      <td>1</td>\n",
              "      <td>3</td>\n",
              "    </tr>\n",
              "    <tr>\n",
              "      <th>4400</th>\n",
              "      <td>ya allah hanya engkau yang tahu rasa sakit di ...</td>\n",
              "      <td>2</td>\n",
              "      <td>2</td>\n",
              "    </tr>\n",
              "  </tbody>\n",
              "</table>\n",
              "<p>4401 rows × 3 columns</p>\n",
              "</div>"
            ],
            "text/plain": [
              "                                                 tweets  class  predicted\n",
              "0     soal jln jatibaru polisi tdk bs gertak gubernu...      0          0\n",
              "1     sama cewe lho kayak harus bisa lebih rasain la...      0          0\n",
              "2     kepingin gudeg mbarek bu hj amad foto dari goo...      1          1\n",
              "3     jln jatibaru bagi dari wilayah tn abang atur w...      0          0\n",
              "4     sharing alam aja kemarin jam 18 00 batalin tik...      1          1\n",
              "...                                                 ...    ...        ...\n",
              "4396  tahu kamu bahwa saat itu papa mejam mata dan t...      3          3\n",
              "4397  sulit tetap calon wapresnya jokowi di pilpres ...      4          4\n",
              "4398  5 masa depan nggak jelas lha iya gimana mau je...      0          0\n",
              "4399  dulu beneran ada mahasiswa teknik ui nembak pa...      1          3\n",
              "4400  ya allah hanya engkau yang tahu rasa sakit di ...      2          2\n",
              "\n",
              "[4401 rows x 3 columns]"
            ]
          },
          "metadata": {
            "tags": []
          },
          "execution_count": 52
        }
      ]
    },
    {
      "cell_type": "code",
      "metadata": {
        "colab": {
          "base_uri": "https://localhost:8080/"
        },
        "id": "u_7ulwHVubUE",
        "outputId": "03816def-5a2f-404d-a766-c37f7a3daf4b"
      },
      "source": [
        "label_and_code"
      ],
      "execution_count": null,
      "outputs": [
        {
          "output_type": "execute_result",
          "data": {
            "text/plain": [
              "{0: 'anger', 1: 'happy', 2: 'sadness', 3: 'love', 4: 'fear'}"
            ]
          },
          "metadata": {
            "tags": []
          },
          "execution_count": 64
        }
      ]
    }
  ]
}